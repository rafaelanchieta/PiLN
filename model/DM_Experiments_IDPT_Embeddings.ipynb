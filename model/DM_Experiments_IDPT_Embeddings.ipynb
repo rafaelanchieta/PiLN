{
  "nbformat": 4,
  "nbformat_minor": 0,
  "metadata": {
    "colab": {
      "name": "DM Experiments_IDPT_Embeddings.ipynb",
      "provenance": [],
      "collapsed_sections": []
    },
    "kernelspec": {
      "display_name": "Python 3",
      "name": "python3"
    },
    "language_info": {
      "name": "python"
    }
  },
  "cells": [
    {
      "cell_type": "markdown",
      "metadata": {
        "id": "4x-EEUEDGpW5"
      },
      "source": [
        "<h1 align=\"center\"> Experimentos utilizando o algoritmo Distributed Memory Doc2vec Embeddings </h1>\n",
        "\n",
        "---\n",
        "\n"
      ]
    },
    {
      "cell_type": "markdown",
      "metadata": {
        "id": "TFuzy7oUPZyU"
      },
      "source": [
        "Bibliotecas utilizadas para auxiliar no trabalho de geração e utilização do vetor de palavras Doc2vec"
      ]
    },
    {
      "cell_type": "code",
      "metadata": {
        "id": "VUzl8Ihr_PKb",
        "colab": {
          "base_uri": "https://localhost:8080/"
        },
        "outputId": "dcc3720b-5e32-43b7-ee57-4b50d57aed9c"
      },
      "source": [
        "from google.colab import drive\n",
        "import gensim\n",
        "from gensim.models import Doc2Vec\n",
        "import pandas as pd\n",
        "import numpy as np\n",
        "from pandas import DataFrame\n",
        "import matplotlib.pyplot as plt\n",
        "from sklearn.model_selection import train_test_split\n",
        "from sklearn.svm import LinearSVC\n",
        "from sklearn.metrics._classification import accuracy_score\n",
        "from sklearn.metrics import balanced_accuracy_score\n",
        "from sklearn.metrics import plot_confusion_matrix\n",
        "from imblearn.over_sampling import SMOTE\n",
        "from collections import Counter\n",
        "from sklearn.model_selection import StratifiedShuffleSplit\n",
        "from sklearn.metrics import f1_score\n",
        "from sklearn.metrics import precision_score\n",
        "from sklearn.metrics import recall_score\n",
        "from sklearn.metrics import classification_report"
      ],
      "execution_count": null,
      "outputs": [
        {
          "output_type": "stream",
          "text": [
            "/usr/local/lib/python3.7/dist-packages/sklearn/externals/six.py:31: FutureWarning: The module is deprecated in version 0.21 and will be removed in version 0.23 since we've dropped support for Python 2.7. Please rely on the official version of six (https://pypi.org/project/six/).\n",
            "  \"(https://pypi.org/project/six/).\", FutureWarning)\n",
            "/usr/local/lib/python3.7/dist-packages/sklearn/utils/deprecation.py:144: FutureWarning: The sklearn.neighbors.base module is  deprecated in version 0.22 and will be removed in version 0.24. The corresponding classes / functions should instead be imported from sklearn.neighbors. Anything that cannot be imported from sklearn.neighbors is now part of the private API.\n",
            "  warnings.warn(message, FutureWarning)\n"
          ],
          "name": "stderr"
        }
      ]
    },
    {
      "cell_type": "markdown",
      "metadata": {
        "id": "hsADPv9sPmNy"
      },
      "source": [
        "Utilização do google drive para acessar o data set e os arquivos de vetores de palavras"
      ]
    },
    {
      "cell_type": "code",
      "metadata": {
        "colab": {
          "base_uri": "https://localhost:8080/"
        },
        "id": "WivlJexLEGwX",
        "outputId": "df59a319-facb-4397-92d8-d1f439ae4b77"
      },
      "source": [
        "drive.mount('/content/drive')"
      ],
      "execution_count": null,
      "outputs": [
        {
          "output_type": "stream",
          "text": [
            "Mounted at /content/drive\n"
          ],
          "name": "stdout"
        }
      ]
    },
    {
      "cell_type": "markdown",
      "metadata": {
        "id": "VqM_r4VHP0fC"
      },
      "source": [
        "\n",
        "Leitura dos arquivos contendo os dados. Métodos auxiliares para gerar o split de todo o conjunto."
      ]
    },
    {
      "cell_type": "code",
      "metadata": {
        "id": "8Peda4P6HIup"
      },
      "source": [
        "def read_corpus(train_filepath, test_filepath):\n",
        "    \n",
        "    train_data = pd.read_csv(train_filepath, sep=',')\n",
        "    test_data = pd.read_csv(test_filepath, sep=',')\n",
        "    \n",
        "    X_train = []\n",
        "    y_train = []\n",
        "    X_train.extend(train_data['text'].values)\n",
        "    y_train.extend(train_data['prediction'].values)\n",
        "    \n",
        "    X_test = []\n",
        "    y_test = []\n",
        "    X_test.extend(test_data['text'].values)\n",
        "    y_test.extend(test_data['prediction'].values)\n",
        "   \n",
        "    return X_train, X_test, y_train, y_test  \n",
        "\n",
        "def split_data_set(X, y, size):\n",
        "    \n",
        "    X_train, X_test, y_train, y_test = train_test_split(X,y,stratify = y, test_size = size, random_state = 42)\n",
        "\n",
        "    return X_train, X_test, y_train, y_test\n",
        "\n",
        "\n",
        "def prepare_corpus(tweets: list):\n",
        "    for i, line in enumerate(tweets):\n",
        "        tokens = gensim.utils.simple_preprocess(line)\n",
        "        yield gensim.models.doc2vec.TaggedDocument(tokens, [i])\n",
        "\n"
      ],
      "execution_count": null,
      "outputs": []
    },
    {
      "cell_type": "markdown",
      "metadata": {
        "id": "efpUCZV1LYWQ"
      },
      "source": [
        "Método para criação das embeddings a serem utilizadas na classificação"
      ]
    },
    {
      "cell_type": "code",
      "metadata": {
        "colab": {
          "base_uri": "https://localhost:8080/",
          "height": 36
        },
        "id": "WXpNOhEJLXGF",
        "outputId": "cee6b902-234e-4f32-8e51-e1c16242c300"
      },
      "source": [
        "def train_doc2vec_embeddings(vec_size, option, data):\n",
        " \n",
        "    documents = list(prepare_corpus(data))\n",
        "    #model = Doc2Vec(vector_size=vec_size, window=4, min_count=1, epochs=300, sample=1e-4, workers=5)\n",
        "    model = Doc2Vec(vector_size = vec_size, dm = option, window=4, min_count=1, epochs=300, sample=1e-4, workers=5)\n",
        "    model.build_vocab(documents)\n",
        "    model.train(documents, total_examples=model.corpus_count, epochs=model.epochs)\n",
        "    '''\n",
        "    file_name = str(vec_size)+'doc2vec.model'\n",
        "    model.save('/content/drive/MyDrive/Projects/IDPT2021/saved_models/'+ file_name)\n",
        "    '''    \n",
        "    return model\n",
        "'''\n",
        "vector_size = 50\n",
        "option = 1\n",
        "\n",
        "train_and_save(vector_size, option)\n",
        "print('Vector size ' + str(vector_size) + ' done!')\n",
        "'''"
      ],
      "execution_count": null,
      "outputs": [
        {
          "output_type": "execute_result",
          "data": {
            "application/vnd.google.colaboratory.intrinsic+json": {
              "type": "string"
            },
            "text/plain": [
              "\"\\nvector_size = 50\\noption = 1\\n\\ntrain_and_save(vector_size, option)\\nprint('Vector size ' + str(vector_size) + ' done!')\\n\""
            ]
          },
          "metadata": {
            "tags": []
          },
          "execution_count": 6
        }
      ]
    },
    {
      "cell_type": "markdown",
      "metadata": {
        "id": "B_7kWIRLQiEZ"
      },
      "source": [
        "Código para capturar o vetor de palavras já gerado e utiliza-lo para inferir novos vetores de palavras no data set a ser utilizado na classificação.\n",
        "\n",
        "Método de avaliação dos classificadores é através de um hold-out 90/10, com o uso das métricas acurácia e acurácia balanceada."
      ]
    },
    {
      "cell_type": "code",
      "metadata": {
        "id": "Ntkove4-POc7"
      },
      "source": [
        "\n",
        "def infer_d2v_embeddings(d2v_model, X):\n",
        "    \n",
        "    for i in range(len(X)):\n",
        "        model_vector = d2v_model.infer_vector(gensim.utils.simple_preprocess(X[i]))\n",
        "        X[i] = model_vector\n",
        "        \n",
        "    return X\n",
        "\n",
        "def run_classifier(classifier, X_train, X_test, y_train, y_test):\n",
        "    \n",
        "    classifier.fit(X_train,y_train)\n",
        "    \n",
        "    pred = classifier.predict(X_test)\n",
        "    \n",
        "    acc_score = accuracy_score(y_test,pred)\n",
        "    ballanced_acc_score = balanced_accuracy_score(y_test, pred)\n",
        "    classif_report = classification_report(y_test, pred)\n",
        "    \n",
        "    return acc_score, ballanced_acc_score, classif_report"
      ],
      "execution_count": null,
      "outputs": []
    },
    {
      "cell_type": "markdown",
      "metadata": {
        "id": "Z6TQOHISRW3k"
      },
      "source": [
        "<h1 align=\"center\"> <b>Organização</b> </h1>\n",
        "<h2 align=\"center\"> <font color=\"red\"> <b>1 - Experimentos Hold out 90 treino / 10 teste</b> </font> </h2>\n",
        "\n",
        "\n",
        "1.   Distributed Memory === Hold out 90 treino / 10 teste\n",
        "2.   Distributed Memory === Hold out 80 treino / 20 teste\n",
        "3.   Distributed Memory === Hold out 70 treino / 30 teste\n",
        "\n",
        "*    Tamanho do vetor de palavras [50, 100, 300]\n",
        "*    Datasets - Corpus Twitter Qualidade Tradução [75%, 25%, valor médio]\n",
        "*    As embeddings são geradas a partir dos conjuntos de treinos dos datasets e utilizadas para inferir nos conjuntos de testes. As três configurações (tamanho do vetor) são utilizados nos datasets. \n",
        "\n",
        "---\n",
        "\n",
        "---\n",
        "\n",
        "\n",
        "\n"
      ]
    },
    {
      "cell_type": "markdown",
      "metadata": {
        "id": "eeig1dm4Wgaw"
      },
      "source": [
        "\n",
        "<h2 align=\"center\"> <font color=\"red\"> <b>1 - Experimentos Hold out 90 treino / 10 teste</b> </font> </h2>\n",
        "\n",
        "---\n",
        "<h2 align=\"center\"> Distributed Memory size 50</h2>\n"
      ]
    },
    {
      "cell_type": "markdown",
      "metadata": {
        "id": "UZueqxJBbElI"
      },
      "source": [
        "<h4 align=\"center\"> Conjuto das 75% melhores traduções</h4>"
      ]
    },
    {
      "cell_type": "code",
      "metadata": {
        "colab": {
          "base_uri": "https://localhost:8080/"
        },
        "id": "Y2IUiALgpzRw",
        "outputId": "b8af5545-60eb-41df-d64a-9c76f270ba5d"
      },
      "source": [
        "\n",
        "train_fp = '/content/drive/MyDrive/Projects/IDPT2021/data/balanceado/90-10/train_75_tweets.csv'\n",
        "test_fp = '/content/drive/MyDrive/Projects/IDPT2021/data/balanceado/90-10/test_75_tweets.csv'\n",
        "\n",
        "vec_size = 50\n",
        "#DM model = 1\n",
        "model_option = 1\n",
        "\n",
        "X_train, X_test, y_train, y_test = read_corpus(train_fp, test_fp)\n",
        "\n",
        "d2v_model = train_doc2vec_embeddings(vec_size, model_option, X_train)\n",
        "\n",
        "X_train = infer_d2v_embeddings(d2v_model, X_train)\n",
        "X_test = infer_d2v_embeddings(d2v_model, X_test)\n",
        "\n",
        "classifier = LinearSVC(max_iter=10000)\n",
        "\n",
        "acc_score, ballanced_acc_scores, report = run_classifier(classifier, X_train, X_test, y_train, y_test)\n",
        "\n",
        "print('======Relatório========')\n",
        "print(report)\n",
        "print(\"Acuracia == \" + str(acc_score))\n",
        "print(\"Acuracia balanceada == \" + str(ballanced_acc_scores))"
      ],
      "execution_count": null,
      "outputs": [
        {
          "output_type": "stream",
          "text": [
            "======Relatório========\n",
            "              precision    recall  f1-score   support\n",
            "\n",
            "           0       0.41      0.82      0.55       304\n",
            "           1       0.94      0.73      0.82      1286\n",
            "\n",
            "    accuracy                           0.74      1590\n",
            "   macro avg       0.68      0.77      0.68      1590\n",
            "weighted avg       0.84      0.74      0.77      1590\n",
            "\n",
            "Acuracia == 0.7427672955974842\n",
            "Acuracia balanceada == 0.7706474584595235\n"
          ],
          "name": "stdout"
        }
      ]
    },
    {
      "cell_type": "markdown",
      "metadata": {
        "id": "sAgZbatobOfm"
      },
      "source": [
        "<h4 align=\"center\"> Conjuto das 25% melhores traduções</h4>"
      ]
    },
    {
      "cell_type": "code",
      "metadata": {
        "colab": {
          "base_uri": "https://localhost:8080/"
        },
        "id": "upI3sEyuaRGo",
        "outputId": "544766fd-bce4-412d-c256-4e4547e01d7e"
      },
      "source": [
        "\n",
        "train_fp = '/content/drive/MyDrive/Projects/IDPT2021/data/balanceado/90-10/train_25_tweets.csv'\n",
        "test_fp = '/content/drive/MyDrive/Projects/IDPT2021/data/balanceado/90-10/test_25_tweets.csv'\n",
        "\n",
        "vec_size = 50\n",
        "#DM model = 1\n",
        "model_option = 1\n",
        "\n",
        "X_train, X_test, y_train, y_test = read_corpus(train_fp, test_fp)\n",
        "\n",
        "d2v_model = train_doc2vec_embeddings(vec_size, model_option, X_train)\n",
        "\n",
        "X_train = infer_d2v_embeddings(d2v_model, X_train)\n",
        "X_test = infer_d2v_embeddings(d2v_model, X_test)\n",
        "\n",
        "classifier = LinearSVC(max_iter=10000)\n",
        "\n",
        "acc_score, ballanced_acc_scores, report = run_classifier(classifier, X_train, X_test, y_train, y_test)\n",
        "\n",
        "print('======Relatório========')\n",
        "print(report)\n",
        "print(\"Acuracia == \" + str(acc_score))\n",
        "print(\"Acuracia balanceada == \" + str(ballanced_acc_scores))"
      ],
      "execution_count": null,
      "outputs": [
        {
          "output_type": "stream",
          "text": [
            "======Relatório========\n",
            "              precision    recall  f1-score   support\n",
            "\n",
            "           0       0.53      0.80      0.64       424\n",
            "           1       0.92      0.76      0.83      1279\n",
            "\n",
            "    accuracy                           0.77      1703\n",
            "   macro avg       0.72      0.78      0.74      1703\n",
            "weighted avg       0.82      0.77      0.78      1703\n",
            "\n",
            "Acuracia == 0.7721667645331768\n",
            "Acuracia balanceada == 0.782888865121631\n"
          ],
          "name": "stdout"
        }
      ]
    },
    {
      "cell_type": "markdown",
      "metadata": {
        "id": "YJgSVdvNbSj8"
      },
      "source": [
        "<h4 align=\"center\"> Conjuto da média das melhores traduções</h4>"
      ]
    },
    {
      "cell_type": "code",
      "metadata": {
        "colab": {
          "background_save": true
        },
        "id": "wTMixZvKQywM",
        "outputId": "b410cf16-9999-4673-e1b5-ebe5b1544202"
      },
      "source": [
        "\n",
        "train_fp = '/content/drive/MyDrive/Projects/IDPT2021/data/balanceado/90-10/train_media_tweets.csv'\n",
        "test_fp = '/content/drive/MyDrive/Projects/IDPT2021/data/balanceado/90-10/test_media_tweets.csv'\n",
        "\n",
        "vec_size = 50\n",
        "#DM model = 1\n",
        "model_option = 1\n",
        "\n",
        "X_train, X_test, y_train, y_test = read_corpus(train_fp, test_fp)\n",
        "\n",
        "d2v_model = train_doc2vec_embeddings(vec_size, model_option, X_train)\n",
        "\n",
        "X_train = infer_d2v_embeddings(d2v_model, X_train)\n",
        "X_test = infer_d2v_embeddings(d2v_model, X_test)\n",
        "\n",
        "classifier = LinearSVC(max_iter=10000)\n",
        "\n",
        "acc_score, ballanced_acc_scores, report = run_classifier(classifier, X_train, X_test, y_train, y_test)\n",
        "\n",
        "print('======Relatório========')\n",
        "print(report)\n",
        "print(\"Acuracia == \" + str(acc_score))\n",
        "print(\"Acuracia balanceada == \" + str(ballanced_acc_scores))"
      ],
      "execution_count": null,
      "outputs": [
        {
          "output_type": "stream",
          "text": [
            "======Relatório========\n",
            "              precision    recall  f1-score   support\n",
            "\n",
            "           0       0.46      0.76      0.57       361\n",
            "           1       0.92      0.75      0.83      1290\n",
            "\n",
            "    accuracy                           0.75      1651\n",
            "   macro avg       0.69      0.76      0.70      1651\n",
            "weighted avg       0.82      0.75      0.77      1651\n",
            "\n",
            "Acuracia == 0.7546941247728649\n",
            "Acuracia balanceada == 0.7552481264360411\n"
          ],
          "name": "stdout"
        }
      ]
    },
    {
      "cell_type": "markdown",
      "metadata": {
        "id": "uCfBMTCXgZg7"
      },
      "source": [
        "<h2 align=\"center\"> Distributed Memory size 100</h2>\n",
        "\n",
        "<h4 align=\"center\"> Hold out 90 treino / 10 teste </h4>"
      ]
    },
    {
      "cell_type": "markdown",
      "metadata": {
        "id": "ZTE5f2bng2Wl"
      },
      "source": [
        "<h4 align=\"center\"> Conjuto das 75% melhores traduções</h4>"
      ]
    },
    {
      "cell_type": "code",
      "metadata": {
        "id": "EJm79pLegqgi",
        "colab": {
          "base_uri": "https://localhost:8080/"
        },
        "outputId": "b4b1fde1-6f06-461d-d321-75ab7b3fa765"
      },
      "source": [
        "\n",
        "train_fp = '/content/drive/MyDrive/Projects/IDPT2021/data/balanceado/90-10/train_75_tweets.csv'\n",
        "test_fp = '/content/drive/MyDrive/Projects/IDPT2021/data/balanceado/90-10/test_75_tweets.csv'\n",
        "\n",
        "vec_size = 100\n",
        "#DM model = 1\n",
        "model_option = 1\n",
        "\n",
        "X_train, X_test, y_train, y_test = read_corpus(train_fp, test_fp)\n",
        "\n",
        "d2v_model = train_doc2vec_embeddings(vec_size, model_option, X_train)\n",
        "\n",
        "X_train = infer_d2v_embeddings(d2v_model, X_train)\n",
        "X_test = infer_d2v_embeddings(d2v_model, X_test)\n",
        "\n",
        "classifier = LinearSVC(max_iter=10000)\n",
        "\n",
        "acc_score, ballanced_acc_scores, report = run_classifier(classifier, X_train, X_test, y_train, y_test)\n",
        "\n",
        "print('======Relatório========')\n",
        "print(report)\n",
        "print(\"Acuracia == \" + str(acc_score))\n",
        "print(\"Acuracia balanceada == \" + str(ballanced_acc_scores))"
      ],
      "execution_count": null,
      "outputs": [
        {
          "output_type": "stream",
          "text": [
            "======Relatório========\n",
            "              precision    recall  f1-score   support\n",
            "\n",
            "           0       0.42      0.86      0.57       304\n",
            "           1       0.96      0.72      0.82      1286\n",
            "\n",
            "    accuracy                           0.75      1590\n",
            "   macro avg       0.69      0.79      0.69      1590\n",
            "weighted avg       0.85      0.75      0.77      1590\n",
            "\n",
            "Acuracia == 0.7484276729559748\n",
            "Acuracia balanceada == 0.7904738274535483\n"
          ],
          "name": "stdout"
        }
      ]
    },
    {
      "cell_type": "markdown",
      "metadata": {
        "id": "2JwDJc_Bg0V9"
      },
      "source": [
        "<h4 align=\"center\"> Conjuto das 25% melhores traduções</h4>"
      ]
    },
    {
      "cell_type": "code",
      "metadata": {
        "id": "j-K9r4btgxEe",
        "colab": {
          "base_uri": "https://localhost:8080/"
        },
        "outputId": "706ec62d-910d-493d-dc91-b227bd08aa4a"
      },
      "source": [
        "\n",
        "train_fp = '/content/drive/MyDrive/Projects/IDPT2021/data/balanceado/90-10/train_25_tweets.csv'\n",
        "test_fp = '/content/drive/MyDrive/Projects/IDPT2021/data/balanceado/90-10/test_25_tweets.csv'\n",
        "\n",
        "vec_size = 100\n",
        "#DM model = 1\n",
        "model_option = 1\n",
        "\n",
        "X_train, X_test, y_train, y_test = read_corpus(train_fp, test_fp)\n",
        "\n",
        "d2v_model = train_doc2vec_embeddings(vec_size, model_option, X_train)\n",
        "\n",
        "X_train = infer_d2v_embeddings(d2v_model, X_train)\n",
        "X_test = infer_d2v_embeddings(d2v_model, X_test)\n",
        "\n",
        "classifier = LinearSVC(max_iter=10000)\n",
        "\n",
        "acc_score, ballanced_acc_scores, report = run_classifier(classifier, X_train, X_test, y_train, y_test)\n",
        "\n",
        "print('======Relatório========')\n",
        "print(report)\n",
        "print(\"Acuracia == \" + str(acc_score))\n",
        "print(\"Acuracia balanceada == \" + str(ballanced_acc_scores))"
      ],
      "execution_count": null,
      "outputs": [
        {
          "output_type": "stream",
          "text": [
            "======Relatório========\n",
            "              precision    recall  f1-score   support\n",
            "\n",
            "           0       0.53      0.79      0.64       424\n",
            "           1       0.92      0.77      0.84      1279\n",
            "\n",
            "    accuracy                           0.78      1703\n",
            "   macro avg       0.73      0.78      0.74      1703\n",
            "weighted avg       0.82      0.78      0.79      1703\n",
            "\n",
            "Acuracia == 0.7751027598355843\n",
            "Acuracia balanceada == 0.780901942850399\n"
          ],
          "name": "stdout"
        }
      ]
    },
    {
      "cell_type": "markdown",
      "metadata": {
        "id": "jkXBaa28g_oT"
      },
      "source": [
        "<h4 align=\"center\"> Conjuto da média das melhores traduções</h4>"
      ]
    },
    {
      "cell_type": "code",
      "metadata": {
        "id": "vUqkDb6ohAZf",
        "colab": {
          "base_uri": "https://localhost:8080/"
        },
        "outputId": "74aebb7d-a3a4-4042-b4d9-c5bcf756f67d"
      },
      "source": [
        "\n",
        "train_fp = '/content/drive/MyDrive/Projects/IDPT2021/data/balanceado/90-10/train_media_tweets.csv'\n",
        "test_fp = '/content/drive/MyDrive/Projects/IDPT2021/data/balanceado/90-10/test_media_tweets.csv'\n",
        "\n",
        "vec_size = 100\n",
        "#DM model = 1\n",
        "model_option = 1\n",
        "\n",
        "X_train, X_test, y_train, y_test = read_corpus(train_fp, test_fp)\n",
        "\n",
        "d2v_model = train_doc2vec_embeddings(vec_size, model_option, X_train)\n",
        "\n",
        "X_train = infer_d2v_embeddings(d2v_model, X_train)\n",
        "X_test = infer_d2v_embeddings(d2v_model, X_test)\n",
        "\n",
        "classifier = LinearSVC(max_iter=10000)\n",
        "\n",
        "acc_score, ballanced_acc_scores, report = run_classifier(classifier, X_train, X_test, y_train, y_test)\n",
        "\n",
        "print('======Relatório========')\n",
        "print(report)\n",
        "print(\"Acuracia == \" + str(acc_score))\n",
        "print(\"Acuracia balanceada == \" + str(ballanced_acc_scores))"
      ],
      "execution_count": null,
      "outputs": [
        {
          "output_type": "stream",
          "text": [
            "======Relatório========\n",
            "              precision    recall  f1-score   support\n",
            "\n",
            "           0       0.49      0.78      0.60       361\n",
            "           1       0.93      0.78      0.85      1290\n",
            "\n",
            "    accuracy                           0.78      1651\n",
            "   macro avg       0.71      0.78      0.73      1651\n",
            "weighted avg       0.83      0.78      0.79      1651\n",
            "\n",
            "Acuracia == 0.7777104784978801\n",
            "Acuracia balanceada == 0.7779563658227576\n"
          ],
          "name": "stdout"
        }
      ]
    },
    {
      "cell_type": "markdown",
      "metadata": {
        "id": "rE299BdsTC16"
      },
      "source": [
        "<h2 align=\"center\"> Distributed Memory size 300</h2>\n",
        "\n",
        "<h4 align=\"center\"> Hold out 90 treino / 10 teste </h4>"
      ]
    },
    {
      "cell_type": "markdown",
      "metadata": {
        "id": "dPumAXf3iT2i"
      },
      "source": [
        "<h4 align=\"center\"> Conjuto das 75% melhores traduções</h4>"
      ]
    },
    {
      "cell_type": "code",
      "metadata": {
        "id": "MhNo6y9NicWx",
        "colab": {
          "base_uri": "https://localhost:8080/"
        },
        "outputId": "9f970d47-bd00-4bd9-bc4a-6c1afe2167e0"
      },
      "source": [
        "\n",
        "train_fp = '/content/drive/MyDrive/Projects/IDPT2021/data/balanceado/90-10/train_75_tweets.csv'\n",
        "test_fp = '/content/drive/MyDrive/Projects/IDPT2021/data/balanceado/90-10/test_75_tweets.csv'\n",
        "\n",
        "vec_size = 300\n",
        "#DM model = 1\n",
        "model_option = 1\n",
        "\n",
        "X_train, X_test, y_train, y_test = read_corpus(train_fp, test_fp)\n",
        "\n",
        "d2v_model = train_doc2vec_embeddings(vec_size, model_option, X_train)\n",
        "\n",
        "X_train = infer_d2v_embeddings(d2v_model, X_train)\n",
        "X_test = infer_d2v_embeddings(d2v_model, X_test)\n",
        "\n",
        "classifier = LinearSVC(max_iter=10000)\n",
        "\n",
        "acc_score, ballanced_acc_scores, report = run_classifier(classifier, X_train, X_test, y_train, y_test)\n",
        "\n",
        "print('======Relatório========')\n",
        "print(report)\n",
        "print(\"Acuracia == \" + str(acc_score))\n",
        "print(\"Acuracia balanceada == \" + str(ballanced_acc_scores))"
      ],
      "execution_count": null,
      "outputs": [
        {
          "output_type": "stream",
          "text": [
            "======Relatório========\n",
            "              precision    recall  f1-score   support\n",
            "\n",
            "           0       0.48      0.81      0.60       304\n",
            "           1       0.95      0.79      0.86      1286\n",
            "\n",
            "    accuracy                           0.80      1590\n",
            "   macro avg       0.71      0.80      0.73      1590\n",
            "weighted avg       0.86      0.80      0.81      1590\n",
            "\n",
            "Acuracia == 0.7968553459119497\n",
            "Acuracia balanceada == 0.8003166693951052\n"
          ],
          "name": "stdout"
        }
      ]
    },
    {
      "cell_type": "markdown",
      "metadata": {
        "id": "CJG1t6BdiU7h"
      },
      "source": [
        "<h4 align=\"center\"> Conjuto das 25% melhores traduções</h4>"
      ]
    },
    {
      "cell_type": "code",
      "metadata": {
        "id": "R4pomGleiiMb",
        "colab": {
          "base_uri": "https://localhost:8080/"
        },
        "outputId": "16cf4f1f-94f7-41dd-a25e-93859c0561bb"
      },
      "source": [
        "\n",
        "train_fp = '/content/drive/MyDrive/Projects/IDPT2021/data/balanceado/90-10/train_25_tweets.csv'\n",
        "test_fp = '/content/drive/MyDrive/Projects/IDPT2021/data/balanceado/90-10/test_25_tweets.csv'\n",
        "\n",
        "vec_size = 300\n",
        "#DM model = 1\n",
        "model_option = 1\n",
        "\n",
        "X_train, X_test, y_train, y_test = read_corpus(train_fp, test_fp)\n",
        "\n",
        "d2v_model = train_doc2vec_embeddings(vec_size, model_option, X_train)\n",
        "\n",
        "X_train = infer_d2v_embeddings(d2v_model, X_train)\n",
        "X_test = infer_d2v_embeddings(d2v_model, X_test)\n",
        "\n",
        "classifier = LinearSVC(max_iter=10000)\n",
        "\n",
        "acc_score, ballanced_acc_scores, report = run_classifier(classifier, X_train, X_test, y_train, y_test)\n",
        "\n",
        "print('======Relatório========')\n",
        "print(report)\n",
        "print(\"Acuracia == \" + str(acc_score))\n",
        "print(\"Acuracia balanceada == \" + str(ballanced_acc_scores))"
      ],
      "execution_count": null,
      "outputs": [
        {
          "output_type": "stream",
          "text": [
            "======Relatório========\n",
            "              precision    recall  f1-score   support\n",
            "\n",
            "           0       0.60      0.76      0.67       424\n",
            "           1       0.91      0.83      0.87      1279\n",
            "\n",
            "    accuracy                           0.81      1703\n",
            "   macro avg       0.76      0.80      0.77      1703\n",
            "weighted avg       0.83      0.81      0.82      1703\n",
            "\n",
            "Acuracia == 0.8126834997064005\n",
            "Acuracia balanceada == 0.7956733960788942\n"
          ],
          "name": "stdout"
        }
      ]
    },
    {
      "cell_type": "markdown",
      "metadata": {
        "id": "mz-EWEyViYOq"
      },
      "source": [
        "<h4 align=\"center\"> Conjuto da média das melhores traduções</h4>"
      ]
    },
    {
      "cell_type": "code",
      "metadata": {
        "id": "QsNesimfil46",
        "colab": {
          "base_uri": "https://localhost:8080/"
        },
        "outputId": "a09f4faa-3570-4213-de39-06bf3c3baf98"
      },
      "source": [
        "\n",
        "train_fp = '/content/drive/MyDrive/Projects/IDPT2021/data/balanceado/90-10/train_media_tweets.csv'\n",
        "test_fp = '/content/drive/MyDrive/Projects/IDPT2021/data/balanceado/90-10/test_media_tweets.csv'\n",
        "\n",
        "vec_size = 300\n",
        "#DM model = 1\n",
        "model_option = 1\n",
        "\n",
        "X_train, X_test, y_train, y_test = read_corpus(train_fp, test_fp)\n",
        "\n",
        "d2v_model = train_doc2vec_embeddings(vec_size, model_option, X_train)\n",
        "\n",
        "X_train = infer_d2v_embeddings(d2v_model, X_train)\n",
        "X_test = infer_d2v_embeddings(d2v_model, X_test)\n",
        "\n",
        "classifier = LinearSVC(max_iter=10000)\n",
        "\n",
        "acc_score, ballanced_acc_scores, report = run_classifier(classifier, X_train, X_test, y_train, y_test)\n",
        "\n",
        "print('======Relatório========')\n",
        "print(report)\n",
        "print(\"Acuracia == \" + str(acc_score))\n",
        "print(\"Acuracia balanceada == \" + str(ballanced_acc_scores))"
      ],
      "execution_count": null,
      "outputs": [
        {
          "output_type": "stream",
          "text": [
            "======Relatório========\n",
            "              precision    recall  f1-score   support\n",
            "\n",
            "           0       0.55      0.72      0.62       361\n",
            "           1       0.91      0.83      0.87      1290\n",
            "\n",
            "    accuracy                           0.81      1651\n",
            "   macro avg       0.73      0.78      0.75      1651\n",
            "weighted avg       0.84      0.81      0.82      1651\n",
            "\n",
            "Acuracia == 0.8098122350090854\n",
            "Acuracia balanceada == 0.7785501084412377\n"
          ],
          "name": "stdout"
        }
      ]
    },
    {
      "cell_type": "markdown",
      "metadata": {
        "id": "l8nzcd8rJqZ8"
      },
      "source": [
        "<h2 align=\"center\"> <font color=\"red\"> <b>2 - Experimentos Hold out 80 treino / 20 teste</b> </font> </h2>\n",
        "\n",
        "\n",
        "\n",
        "2.   Distributed Memory === Hold out 80 treino / 20 teste\n",
        "\n",
        "*    Tamanho do vetor de palavras = 50 \n",
        "*    Tamanho do vetor de palavras = 100 \n",
        "*    Tamanho do vetor de palavras = 300 "
      ]
    },
    {
      "cell_type": "markdown",
      "metadata": {
        "id": "IVdbyiMiiyot"
      },
      "source": [
        "<h4 align=\"center\"> Conjuto das 75% melhores traduções</h4>"
      ]
    },
    {
      "cell_type": "code",
      "metadata": {
        "colab": {
          "base_uri": "https://localhost:8080/"
        },
        "id": "lGZqZtWRl02d",
        "outputId": "401904bd-30fe-4703-b2cb-5ffcc7918d28"
      },
      "source": [
        "train_fp = '/content/drive/MyDrive/Projects/IDPT2021/data/balanceado/80-20/train_75_tweets.csv'\n",
        "test_fp = '/content/drive/MyDrive/Projects/IDPT2021/data/balanceado/80-20/test_75_tweets.csv'\n",
        "\n",
        "vec_size = 50\n",
        "#DM model = 1\n",
        "model_option = 1\n",
        "\n",
        "X_train, X_test, y_train, y_test = read_corpus(train_fp, test_fp)\n",
        "\n",
        "d2v_model = train_doc2vec_embeddings(vec_size, model_option, X_train)\n",
        "\n",
        "X_train = infer_d2v_embeddings(d2v_model, X_train)\n",
        "X_test = infer_d2v_embeddings(d2v_model, X_test)\n",
        "\n",
        "classifier = LinearSVC(max_iter=10000)\n",
        "\n",
        "acc_score, ballanced_acc_scores, report = run_classifier(classifier, X_train, X_test, y_train, y_test)\n",
        "\n",
        "print('======Relatório========')\n",
        "print(report)\n",
        "print(\"Acuracia == \" + str(acc_score))\n",
        "print(\"Acuracia balanceada == \" + str(ballanced_acc_scores))"
      ],
      "execution_count": null,
      "outputs": [
        {
          "output_type": "stream",
          "text": [
            "======Relatório========\n",
            "              precision    recall  f1-score   support\n",
            "\n",
            "           0       0.42      0.82      0.55       621\n",
            "           1       0.94      0.72      0.82      2558\n",
            "\n",
            "    accuracy                           0.74      3179\n",
            "   macro avg       0.68      0.77      0.69      3179\n",
            "weighted avg       0.84      0.74      0.77      3179\n",
            "\n",
            "Acuracia == 0.74268637936458\n",
            "Acuracia balanceada == 0.772434117838136\n"
          ],
          "name": "stdout"
        }
      ]
    },
    {
      "cell_type": "code",
      "metadata": {
        "colab": {
          "base_uri": "https://localhost:8080/"
        },
        "id": "qs5oNnSrl4Nc",
        "outputId": "bed9974b-a360-47f7-c85d-85ad68627d8d"
      },
      "source": [
        "train_fp = '/content/drive/MyDrive/Projects/IDPT2021/data/balanceado/80-20/train_75_tweets.csv'\n",
        "test_fp = '/content/drive/MyDrive/Projects/IDPT2021/data/balanceado/80-20/test_75_tweets.csv'\n",
        "\n",
        "vec_size = 100\n",
        "#DM model = 1\n",
        "model_option = 1\n",
        "\n",
        "X_train, X_test, y_train, y_test = read_corpus(train_fp, test_fp)\n",
        "\n",
        "d2v_model = train_doc2vec_embeddings(vec_size, model_option, X_train)\n",
        "\n",
        "X_train = infer_d2v_embeddings(d2v_model, X_train)\n",
        "X_test = infer_d2v_embeddings(d2v_model, X_test)\n",
        "\n",
        "classifier = LinearSVC(max_iter=10000)\n",
        "\n",
        "acc_score, ballanced_acc_scores, report = run_classifier(classifier, X_train, X_test, y_train, y_test)\n",
        "\n",
        "print('======Relatório========')\n",
        "print(report)\n",
        "print(\"Acuracia == \" + str(acc_score))\n",
        "print(\"Acuracia balanceada == \" + str(ballanced_acc_scores))"
      ],
      "execution_count": null,
      "outputs": [
        {
          "output_type": "stream",
          "text": [
            "======Relatório========\n",
            "              precision    recall  f1-score   support\n",
            "\n",
            "           0       0.43      0.84      0.57       621\n",
            "           1       0.95      0.73      0.83      2558\n",
            "\n",
            "    accuracy                           0.75      3179\n",
            "   macro avg       0.69      0.79      0.70      3179\n",
            "weighted avg       0.85      0.75      0.78      3179\n",
            "\n",
            "Acuracia == 0.7540106951871658\n",
            "Acuracia balanceada == 0.7873968063314359\n"
          ],
          "name": "stdout"
        }
      ]
    },
    {
      "cell_type": "code",
      "metadata": {
        "id": "lgNre2UcizAe",
        "colab": {
          "base_uri": "https://localhost:8080/"
        },
        "outputId": "9544f01b-7846-469d-cfb4-91fea76e26de"
      },
      "source": [
        "train_fp = '/content/drive/MyDrive/Projects/IDPT2021/data/balanceado/80-20/train_75_tweets.csv'\n",
        "test_fp = '/content/drive/MyDrive/Projects/IDPT2021/data/balanceado/80-20/test_75_tweets.csv'\n",
        "\n",
        "vec_size = 300\n",
        "#DM model = 1\n",
        "model_option = 1\n",
        "\n",
        "X_train, X_test, y_train, y_test = read_corpus(train_fp, test_fp)\n",
        "\n",
        "d2v_model = train_doc2vec_embeddings(vec_size, model_option, X_train)\n",
        "\n",
        "X_train = infer_d2v_embeddings(d2v_model, X_train)\n",
        "X_test = infer_d2v_embeddings(d2v_model, X_test)\n",
        "\n",
        "classifier = LinearSVC(max_iter=10000)\n",
        "\n",
        "acc_score, ballanced_acc_scores, report = run_classifier(classifier, X_train, X_test, y_train, y_test)\n",
        "\n",
        "print('======Relatório========')\n",
        "print(report)\n",
        "print(\"Acuracia == \" + str(acc_score))\n",
        "print(\"Acuracia balanceada == \" + str(ballanced_acc_scores))"
      ],
      "execution_count": null,
      "outputs": [
        {
          "output_type": "stream",
          "text": [
            "======Relatório========\n",
            "              precision    recall  f1-score   support\n",
            "\n",
            "           0       0.50      0.83      0.62       621\n",
            "           1       0.95      0.79      0.87      2558\n",
            "\n",
            "    accuracy                           0.80      3179\n",
            "   macro avg       0.72      0.81      0.74      3179\n",
            "weighted avg       0.86      0.80      0.82      3179\n",
            "\n",
            "Acuracia == 0.8018244731047499\n",
            "Acuracia balanceada == 0.8128397034216799\n"
          ],
          "name": "stdout"
        }
      ]
    },
    {
      "cell_type": "markdown",
      "metadata": {
        "id": "Jj1Ovl-XjPM_"
      },
      "source": [
        "<h4 align=\"center\"> Conjuto das 25% melhores traduções</h4>"
      ]
    },
    {
      "cell_type": "code",
      "metadata": {
        "colab": {
          "base_uri": "https://localhost:8080/"
        },
        "id": "tWnlYXSbl-LW",
        "outputId": "5c486140-5b83-42c9-82ac-79221333cf9f"
      },
      "source": [
        "train_fp = '/content/drive/MyDrive/Projects/IDPT2021/data/balanceado/80-20/train_25_tweets.csv'\n",
        "test_fp = '/content/drive/MyDrive/Projects/IDPT2021/data/balanceado/80-20/test_25_tweets.csv'\n",
        "\n",
        "vec_size = 50\n",
        "#DM model = 1\n",
        "model_option = 1\n",
        "\n",
        "X_train, X_test, y_train, y_test = read_corpus(train_fp, test_fp)\n",
        "\n",
        "d2v_model = train_doc2vec_embeddings(vec_size, model_option, X_train)\n",
        "\n",
        "X_train = infer_d2v_embeddings(d2v_model, X_train)\n",
        "X_test = infer_d2v_embeddings(d2v_model, X_test)\n",
        "\n",
        "classifier = LinearSVC(max_iter=10000)\n",
        "\n",
        "acc_score, ballanced_acc_scores, report = run_classifier(classifier, X_train, X_test, y_train, y_test)\n",
        "\n",
        "print('======Relatório========')\n",
        "print(report)\n",
        "print(\"Acuracia == \" + str(acc_score))\n",
        "print(\"Acuracia balanceada == \" + str(ballanced_acc_scores))"
      ],
      "execution_count": null,
      "outputs": [
        {
          "output_type": "stream",
          "text": [
            "======Relatório========\n",
            "              precision    recall  f1-score   support\n",
            "\n",
            "           0       0.52      0.77      0.62       858\n",
            "           1       0.91      0.76      0.83      2547\n",
            "\n",
            "    accuracy                           0.76      3405\n",
            "   macro avg       0.71      0.76      0.72      3405\n",
            "weighted avg       0.81      0.76      0.78      3405\n",
            "\n",
            "Acuracia == 0.7627019089574155\n",
            "Acuracia balanceada == 0.7637073370288918\n"
          ],
          "name": "stdout"
        }
      ]
    },
    {
      "cell_type": "code",
      "metadata": {
        "colab": {
          "base_uri": "https://localhost:8080/"
        },
        "id": "tUoA2FfLmB4J",
        "outputId": "28d24aa2-1e35-4aaa-d416-6947fdb1f928"
      },
      "source": [
        "train_fp = '/content/drive/MyDrive/Projects/IDPT2021/data/balanceado/80-20/train_25_tweets.csv'\n",
        "test_fp = '/content/drive/MyDrive/Projects/IDPT2021/data/balanceado/80-20/test_25_tweets.csv'\n",
        "\n",
        "vec_size = 100\n",
        "#DM model = 1\n",
        "model_option = 1\n",
        "\n",
        "X_train, X_test, y_train, y_test = read_corpus(train_fp, test_fp)\n",
        "\n",
        "d2v_model = train_doc2vec_embeddings(vec_size, model_option, X_train)\n",
        "\n",
        "X_train = infer_d2v_embeddings(d2v_model, X_train)\n",
        "X_test = infer_d2v_embeddings(d2v_model, X_test)\n",
        "\n",
        "classifier = LinearSVC(max_iter=10000)\n",
        "\n",
        "acc_score, ballanced_acc_scores, report = run_classifier(classifier, X_train, X_test, y_train, y_test)\n",
        "\n",
        "print('======Relatório========')\n",
        "print(report)\n",
        "print(\"Acuracia == \" + str(acc_score))\n",
        "print(\"Acuracia balanceada == \" + str(ballanced_acc_scores))"
      ],
      "execution_count": null,
      "outputs": [
        {
          "output_type": "stream",
          "text": [
            "======Relatório========\n",
            "              precision    recall  f1-score   support\n",
            "\n",
            "           0       0.53      0.77      0.63       858\n",
            "           1       0.91      0.77      0.83      2547\n",
            "\n",
            "    accuracy                           0.77      3405\n",
            "   macro avg       0.72      0.77      0.73      3405\n",
            "weighted avg       0.81      0.77      0.78      3405\n",
            "\n",
            "Acuracia == 0.7712187958883994\n",
            "Acuracia balanceada == 0.7701731915512835\n"
          ],
          "name": "stdout"
        }
      ]
    },
    {
      "cell_type": "code",
      "metadata": {
        "id": "0JKzCxbZjTgZ",
        "colab": {
          "base_uri": "https://localhost:8080/"
        },
        "outputId": "9466facc-6abc-461d-d27c-b63d2a6a02c5"
      },
      "source": [
        "train_fp = '/content/drive/MyDrive/Projects/IDPT2021/data/balanceado/80-20/train_25_tweets.csv'\n",
        "test_fp = '/content/drive/MyDrive/Projects/IDPT2021/data/balanceado/80-20/test_25_tweets.csv'\n",
        "\n",
        "vec_size = 300\n",
        "#DM model = 1\n",
        "model_option = 1\n",
        "\n",
        "X_train, X_test, y_train, y_test = read_corpus(train_fp, test_fp)\n",
        "\n",
        "d2v_model = train_doc2vec_embeddings(vec_size, model_option, X_train)\n",
        "\n",
        "X_train = infer_d2v_embeddings(d2v_model, X_train)\n",
        "X_test = infer_d2v_embeddings(d2v_model, X_test)\n",
        "\n",
        "classifier = LinearSVC(max_iter=10000)\n",
        "\n",
        "acc_score, ballanced_acc_scores, report = run_classifier(classifier, X_train, X_test, y_train, y_test)\n",
        "\n",
        "print('======Relatório========')\n",
        "print(report)\n",
        "print(\"Acuracia == \" + str(acc_score))\n",
        "print(\"Acuracia balanceada == \" + str(ballanced_acc_scores))"
      ],
      "execution_count": null,
      "outputs": [
        {
          "output_type": "stream",
          "text": [
            "======Relatório========\n",
            "              precision    recall  f1-score   support\n",
            "\n",
            "           0       0.62      0.71      0.66       858\n",
            "           1       0.90      0.85      0.88      2547\n",
            "\n",
            "    accuracy                           0.82      3405\n",
            "   macro avg       0.76      0.78      0.77      3405\n",
            "weighted avg       0.83      0.82      0.82      3405\n",
            "\n",
            "Acuracia == 0.8179148311306902\n",
            "Acuracia balanceada == 0.7832236471812444\n"
          ],
          "name": "stdout"
        }
      ]
    },
    {
      "cell_type": "markdown",
      "metadata": {
        "id": "co2pdrCRjR4-"
      },
      "source": [
        "<h4 align=\"center\"> Conjuto da média das melhores traduções</h4>"
      ]
    },
    {
      "cell_type": "code",
      "metadata": {
        "colab": {
          "base_uri": "https://localhost:8080/"
        },
        "id": "GeeKO9wemFta",
        "outputId": "ad1962a3-e4e2-4c44-842a-3fb516f85299"
      },
      "source": [
        "train_fp = '/content/drive/MyDrive/Projects/IDPT2021/data/balanceado/80-20/train_media_tweets.csv'\n",
        "test_fp = '/content/drive/MyDrive/Projects/IDPT2021/data/balanceado/80-20/test_media_tweets.csv'\n",
        "\n",
        "vec_size = 50\n",
        "#DM model = 1\n",
        "model_option = 1\n",
        "\n",
        "X_train, X_test, y_train, y_test = read_corpus(train_fp, test_fp)\n",
        "\n",
        "d2v_model = train_doc2vec_embeddings(vec_size, model_option, X_train)\n",
        "\n",
        "X_train = infer_d2v_embeddings(d2v_model, X_train)\n",
        "X_test = infer_d2v_embeddings(d2v_model, X_test)\n",
        "\n",
        "classifier = LinearSVC(max_iter=10000)\n",
        "\n",
        "acc_score, ballanced_acc_scores, report = run_classifier(classifier, X_train, X_test, y_train, y_test)\n",
        "\n",
        "print('======Relatório========')\n",
        "print(report)\n",
        "print(\"Acuracia == \" + str(acc_score))\n",
        "print(\"Acuracia balanceada == \" + str(ballanced_acc_scores))"
      ],
      "execution_count": null,
      "outputs": [
        {
          "output_type": "stream",
          "text": [
            "======Relatório========\n",
            "              precision    recall  f1-score   support\n",
            "\n",
            "           0       0.46      0.75      0.57       744\n",
            "           1       0.91      0.75      0.82      2558\n",
            "\n",
            "    accuracy                           0.75      3302\n",
            "   macro avg       0.69      0.75      0.70      3302\n",
            "weighted avg       0.81      0.75      0.76      3302\n",
            "\n",
            "Acuracia == 0.7468201090248334\n",
            "Acuracia balanceada == 0.7469944597173531\n"
          ],
          "name": "stdout"
        }
      ]
    },
    {
      "cell_type": "code",
      "metadata": {
        "colab": {
          "base_uri": "https://localhost:8080/"
        },
        "id": "CDA6QhjgmKCy",
        "outputId": "f8d21ed4-65fc-4498-a397-37944a4964fa"
      },
      "source": [
        "train_fp = '/content/drive/MyDrive/Projects/IDPT2021/data/balanceado/80-20/train_media_tweets.csv'\n",
        "test_fp = '/content/drive/MyDrive/Projects/IDPT2021/data/balanceado/80-20/test_media_tweets.csv'\n",
        "\n",
        "vec_size = 100\n",
        "#DM model = 1\n",
        "model_option = 1\n",
        "\n",
        "X_train, X_test, y_train, y_test = read_corpus(train_fp, test_fp)\n",
        "\n",
        "d2v_model = train_doc2vec_embeddings(vec_size, model_option, X_train)\n",
        "\n",
        "X_train = infer_d2v_embeddings(d2v_model, X_train)\n",
        "X_test = infer_d2v_embeddings(d2v_model, X_test)\n",
        "\n",
        "classifier = LinearSVC(max_iter=10000)\n",
        "\n",
        "acc_score, ballanced_acc_scores, report = run_classifier(classifier, X_train, X_test, y_train, y_test)\n",
        "\n",
        "print('======Relatório========')\n",
        "print(report)\n",
        "print(\"Acuracia == \" + str(acc_score))\n",
        "print(\"Acuracia balanceada == \" + str(ballanced_acc_scores))"
      ],
      "execution_count": null,
      "outputs": [
        {
          "output_type": "stream",
          "text": [
            "======Relatório========\n",
            "              precision    recall  f1-score   support\n",
            "\n",
            "           0       0.49      0.76      0.59       744\n",
            "           1       0.92      0.77      0.84      2558\n",
            "\n",
            "    accuracy                           0.77      3302\n",
            "   macro avg       0.70      0.76      0.71      3302\n",
            "weighted avg       0.82      0.77      0.78      3302\n",
            "\n",
            "Acuracia == 0.7655966081162932\n",
            "Acuracia balanceada == 0.7643556584024818\n"
          ],
          "name": "stdout"
        }
      ]
    },
    {
      "cell_type": "code",
      "metadata": {
        "id": "hyZVbdNujS-O",
        "colab": {
          "base_uri": "https://localhost:8080/"
        },
        "outputId": "691c1aed-37f9-4d25-ba8d-010720df5e16"
      },
      "source": [
        "train_fp = '/content/drive/MyDrive/Projects/IDPT2021/data/balanceado/80-20/train_media_tweets.csv'\n",
        "test_fp = '/content/drive/MyDrive/Projects/IDPT2021/data/balanceado/80-20/test_media_tweets.csv'\n",
        "\n",
        "vec_size = 300\n",
        "#DM model = 1\n",
        "model_option = 1\n",
        "\n",
        "X_train, X_test, y_train, y_test = read_corpus(train_fp, test_fp)\n",
        "\n",
        "d2v_model = train_doc2vec_embeddings(vec_size, model_option, X_train)\n",
        "\n",
        "X_train = infer_d2v_embeddings(d2v_model, X_train)\n",
        "X_test = infer_d2v_embeddings(d2v_model, X_test)\n",
        "\n",
        "classifier = LinearSVC(max_iter=10000)\n",
        "\n",
        "acc_score, ballanced_acc_scores, report = run_classifier(classifier, X_train, X_test, y_train, y_test)\n",
        "\n",
        "print('======Relatório========')\n",
        "print(report)\n",
        "print(\"Acuracia == \" + str(acc_score))\n",
        "print(\"Acuracia balanceada == \" + str(ballanced_acc_scores))"
      ],
      "execution_count": null,
      "outputs": [
        {
          "output_type": "stream",
          "text": [
            "======Relatório========\n",
            "              precision    recall  f1-score   support\n",
            "\n",
            "           0       0.56      0.76      0.64       744\n",
            "           1       0.92      0.83      0.87      2558\n",
            "\n",
            "    accuracy                           0.81      3302\n",
            "   macro avg       0.74      0.79      0.76      3302\n",
            "weighted avg       0.84      0.81      0.82      3302\n",
            "\n",
            "Acuracia == 0.8119321623258631\n",
            "Acuracia balanceada == 0.7928321016923503\n"
          ],
          "name": "stdout"
        }
      ]
    },
    {
      "cell_type": "markdown",
      "metadata": {
        "id": "Qto6rTVTJuWr"
      },
      "source": [
        "<h2 align=\"center\"> <font color=\"red\"> <b>3 - Experimentos Hold out 70 treino / 30 teste</b> </font> </h2>\n",
        "\n",
        "\n",
        "\n",
        "3.   Distributed Memory === Hold out 70 treino / 30 teste\n",
        "\n",
        "*    Tamanho do vetor de palavras = 50 \n",
        "*    Tamanho do vetor de palavras = 100 \n",
        "*    Tamanho do vetor de palavras = 300 "
      ]
    },
    {
      "cell_type": "markdown",
      "metadata": {
        "id": "tK7thEL3jhLn"
      },
      "source": [
        "<h4 align=\"center\"> Conjuto das 75% melhores traduções</h4>"
      ]
    },
    {
      "cell_type": "code",
      "metadata": {
        "colab": {
          "base_uri": "https://localhost:8080/"
        },
        "id": "rTuY2Y01mN8V",
        "outputId": "1c28b25d-a0bf-40cc-cdf8-7549496df4ce"
      },
      "source": [
        "train_fp = '/content/drive/MyDrive/Projects/IDPT2021/data/balanceado/70-30/train_75_tweets.csv'\n",
        "test_fp = '/content/drive/MyDrive/Projects/IDPT2021/data/balanceado/70-30/test_75_tweets.csv'\n",
        "\n",
        "vec_size = 50\n",
        "#DM model = 1\n",
        "model_option = 1\n",
        "\n",
        "X_train, X_test, y_train, y_test = read_corpus(train_fp, test_fp)\n",
        "\n",
        "d2v_model = train_doc2vec_embeddings(vec_size, model_option, X_train)\n",
        "\n",
        "X_train = infer_d2v_embeddings(d2v_model, X_train)\n",
        "X_test = infer_d2v_embeddings(d2v_model, X_test)\n",
        "\n",
        "classifier = LinearSVC(max_iter=10000)\n",
        "\n",
        "acc_score, ballanced_acc_scores, report = run_classifier(classifier, X_train, X_test, y_train, y_test)\n",
        "\n",
        "print('======Relatório========')\n",
        "print(report)\n",
        "print(\"Acuracia == \" + str(acc_score))\n",
        "print(\"Acuracia balanceada == \" + str(ballanced_acc_scores))"
      ],
      "execution_count": null,
      "outputs": [
        {
          "output_type": "stream",
          "text": [
            "======Relatório========\n",
            "              precision    recall  f1-score   support\n",
            "\n",
            "           0       0.41      0.84      0.55       925\n",
            "           1       0.95      0.71      0.81      3843\n",
            "\n",
            "    accuracy                           0.73      4768\n",
            "   macro avg       0.68      0.77      0.68      4768\n",
            "weighted avg       0.84      0.73      0.76      4768\n",
            "\n",
            "Acuracia == 0.7321728187919463\n",
            "Acuracia balanceada == 0.7731095498308613\n"
          ],
          "name": "stdout"
        }
      ]
    },
    {
      "cell_type": "code",
      "metadata": {
        "colab": {
          "base_uri": "https://localhost:8080/"
        },
        "id": "Rbgp5CQcmRYO",
        "outputId": "22f76343-0264-4851-be2c-e89b13ae19e1"
      },
      "source": [
        "train_fp = '/content/drive/MyDrive/Projects/IDPT2021/data/balanceado/70-30/train_75_tweets.csv'\n",
        "test_fp = '/content/drive/MyDrive/Projects/IDPT2021/data/balanceado/70-30/test_75_tweets.csv'\n",
        "\n",
        "vec_size = 100\n",
        "#DM model = 1\n",
        "model_option = 1\n",
        "\n",
        "X_train, X_test, y_train, y_test = read_corpus(train_fp, test_fp)\n",
        "\n",
        "d2v_model = train_doc2vec_embeddings(vec_size, model_option, X_train)\n",
        "\n",
        "X_train = infer_d2v_embeddings(d2v_model, X_train)\n",
        "X_test = infer_d2v_embeddings(d2v_model, X_test)\n",
        "\n",
        "classifier = LinearSVC(max_iter=10000)\n",
        "\n",
        "acc_score, ballanced_acc_scores, report = run_classifier(classifier, X_train, X_test, y_train, y_test)\n",
        "\n",
        "print('======Relatório========')\n",
        "print(report)\n",
        "print(\"Acuracia == \" + str(acc_score))\n",
        "print(\"Acuracia balanceada == \" + str(ballanced_acc_scores))"
      ],
      "execution_count": null,
      "outputs": [
        {
          "output_type": "stream",
          "text": [
            "======Relatório========\n",
            "              precision    recall  f1-score   support\n",
            "\n",
            "           0       0.42      0.84      0.56       925\n",
            "           1       0.95      0.72      0.82      3843\n",
            "\n",
            "    accuracy                           0.75      4768\n",
            "   macro avg       0.69      0.78      0.69      4768\n",
            "weighted avg       0.85      0.75      0.77      4768\n",
            "\n",
            "Acuracia == 0.7458053691275168\n",
            "Acuracia balanceada == 0.781976918370361\n"
          ],
          "name": "stdout"
        }
      ]
    },
    {
      "cell_type": "code",
      "metadata": {
        "id": "h5Wsjf-tjfMW",
        "colab": {
          "base_uri": "https://localhost:8080/"
        },
        "outputId": "05d77ebf-db26-474b-dd5b-a296abcdb546"
      },
      "source": [
        "train_fp = '/content/drive/MyDrive/Projects/IDPT2021/data/balanceado/70-30/train_75_tweets.csv'\n",
        "test_fp = '/content/drive/MyDrive/Projects/IDPT2021/data/balanceado/70-30/test_75_tweets.csv'\n",
        "\n",
        "vec_size = 300\n",
        "#DM model = 1\n",
        "model_option = 1\n",
        "\n",
        "X_train, X_test, y_train, y_test = read_corpus(train_fp, test_fp)\n",
        "\n",
        "d2v_model = train_doc2vec_embeddings(vec_size, model_option, X_train)\n",
        "\n",
        "X_train = infer_d2v_embeddings(d2v_model, X_train)\n",
        "X_test = infer_d2v_embeddings(d2v_model, X_test)\n",
        "\n",
        "classifier = LinearSVC(max_iter=10000)\n",
        "\n",
        "acc_score, ballanced_acc_scores, report = run_classifier(classifier, X_train, X_test, y_train, y_test)\n",
        "\n",
        "print('======Relatório========')\n",
        "print(report)\n",
        "print(\"Acuracia == \" + str(acc_score))\n",
        "print(\"Acuracia balanceada == \" + str(ballanced_acc_scores))"
      ],
      "execution_count": null,
      "outputs": [
        {
          "output_type": "stream",
          "text": [
            "======Relatório========\n",
            "              precision    recall  f1-score   support\n",
            "\n",
            "           0       0.49      0.83      0.62       925\n",
            "           1       0.95      0.79      0.86      3843\n",
            "\n",
            "    accuracy                           0.80      4768\n",
            "   macro avg       0.72      0.81      0.74      4768\n",
            "weighted avg       0.86      0.80      0.82      4768\n",
            "\n",
            "Acuracia == 0.7997063758389261\n",
            "Acuracia balanceada == 0.81172043237617\n"
          ],
          "name": "stdout"
        }
      ]
    },
    {
      "cell_type": "markdown",
      "metadata": {
        "id": "Z4kr4bCCjhvY"
      },
      "source": [
        "<h4 align=\"center\"> Conjuto das 25% melhores traduções</h4>"
      ]
    },
    {
      "cell_type": "code",
      "metadata": {
        "colab": {
          "base_uri": "https://localhost:8080/"
        },
        "id": "K2ZDEmX-mVq4",
        "outputId": "86d14eb8-8926-4722-f7a9-8e7e564ee29b"
      },
      "source": [
        "train_fp = '/content/drive/MyDrive/Projects/IDPT2021/data/balanceado/70-30/train_25_tweets.csv'\n",
        "test_fp = '/content/drive/MyDrive/Projects/IDPT2021/data/balanceado/70-30/test_25_tweets.csv'\n",
        "\n",
        "vec_size = 50\n",
        "#DM model = 1\n",
        "model_option = 1\n",
        "\n",
        "X_train, X_test, y_train, y_test = read_corpus(train_fp, test_fp)\n",
        "\n",
        "d2v_model = train_doc2vec_embeddings(vec_size, model_option, X_train)\n",
        "\n",
        "X_train = infer_d2v_embeddings(d2v_model, X_train)\n",
        "X_test = infer_d2v_embeddings(d2v_model, X_test)\n",
        "\n",
        "classifier = LinearSVC(max_iter=10000)\n",
        "\n",
        "acc_score, ballanced_acc_scores, report = run_classifier(classifier, X_train, X_test, y_train, y_test)\n",
        "\n",
        "print('======Relatório========')\n",
        "print(report)\n",
        "print(\"Acuracia == \" + str(acc_score))\n",
        "print(\"Acuracia balanceada == \" + str(ballanced_acc_scores))"
      ],
      "execution_count": null,
      "outputs": [
        {
          "output_type": "stream",
          "text": [
            "======Relatório========\n",
            "              precision    recall  f1-score   support\n",
            "\n",
            "           0       0.52      0.76      0.62      1316\n",
            "           1       0.90      0.76      0.82      3792\n",
            "\n",
            "    accuracy                           0.76      5108\n",
            "   macro avg       0.71      0.76      0.72      5108\n",
            "weighted avg       0.80      0.76      0.77      5108\n",
            "\n",
            "Acuracia == 0.7580266249021144\n",
            "Acuracia balanceada == 0.7571426968309543\n"
          ],
          "name": "stdout"
        }
      ]
    },
    {
      "cell_type": "code",
      "metadata": {
        "colab": {
          "base_uri": "https://localhost:8080/"
        },
        "id": "mjnhY2rlmYyg",
        "outputId": "33be6330-bd81-4533-bc7e-e14f8b9c9538"
      },
      "source": [
        "train_fp = '/content/drive/MyDrive/Projects/IDPT2021/data/balanceado/70-30/train_25_tweets.csv'\n",
        "test_fp = '/content/drive/MyDrive/Projects/IDPT2021/data/balanceado/70-30/test_25_tweets.csv'\n",
        "\n",
        "vec_size = 100\n",
        "#DM model = 1\n",
        "model_option = 1\n",
        "\n",
        "X_train, X_test, y_train, y_test = read_corpus(train_fp, test_fp)\n",
        "\n",
        "d2v_model = train_doc2vec_embeddings(vec_size, model_option, X_train)\n",
        "\n",
        "X_train = infer_d2v_embeddings(d2v_model, X_train)\n",
        "X_test = infer_d2v_embeddings(d2v_model, X_test)\n",
        "\n",
        "classifier = LinearSVC(max_iter=10000)\n",
        "\n",
        "acc_score, ballanced_acc_scores, report = run_classifier(classifier, X_train, X_test, y_train, y_test)\n",
        "\n",
        "print('======Relatório========')\n",
        "print(report)\n",
        "print(\"Acuracia == \" + str(acc_score))\n",
        "print(\"Acuracia balanceada == \" + str(ballanced_acc_scores))"
      ],
      "execution_count": null,
      "outputs": [
        {
          "output_type": "stream",
          "text": [
            "======Relatório========\n",
            "              precision    recall  f1-score   support\n",
            "\n",
            "           0       0.55      0.78      0.64      1316\n",
            "           1       0.91      0.78      0.84      3792\n",
            "\n",
            "    accuracy                           0.78      5108\n",
            "   macro avg       0.73      0.78      0.74      5108\n",
            "weighted avg       0.82      0.78      0.79      5108\n",
            "\n",
            "Acuracia == 0.7795614722004699\n",
            "Acuracia balanceada == 0.7785932309902146\n"
          ],
          "name": "stdout"
        }
      ]
    },
    {
      "cell_type": "code",
      "metadata": {
        "id": "O11WxOvFje3v",
        "colab": {
          "base_uri": "https://localhost:8080/"
        },
        "outputId": "9c9db1f1-54bc-4330-82b7-0b983e091250"
      },
      "source": [
        "train_fp = '/content/drive/MyDrive/Projects/IDPT2021/data/balanceado/70-30/train_25_tweets.csv'\n",
        "test_fp = '/content/drive/MyDrive/Projects/IDPT2021/data/balanceado/70-30/test_25_tweets.csv'\n",
        "\n",
        "vec_size = 300\n",
        "#DM model = 1\n",
        "model_option = 1\n",
        "\n",
        "X_train, X_test, y_train, y_test = read_corpus(train_fp, test_fp)\n",
        "\n",
        "d2v_model = train_doc2vec_embeddings(vec_size, model_option, X_train)\n",
        "\n",
        "X_train = infer_d2v_embeddings(d2v_model, X_train)\n",
        "X_test = infer_d2v_embeddings(d2v_model, X_test)\n",
        "\n",
        "classifier = LinearSVC(max_iter=10000)\n",
        "\n",
        "acc_score, ballanced_acc_scores, report = run_classifier(classifier, X_train, X_test, y_train, y_test)\n",
        "\n",
        "print('======Relatório========')\n",
        "print(report)\n",
        "print(\"Acuracia == \" + str(acc_score))\n",
        "print(\"Acuracia balanceada == \" + str(ballanced_acc_scores))"
      ],
      "execution_count": null,
      "outputs": [
        {
          "output_type": "stream",
          "text": [
            "======Relatório========\n",
            "              precision    recall  f1-score   support\n",
            "\n",
            "           0       0.64      0.74      0.68      1316\n",
            "           1       0.90      0.85      0.88      3792\n",
            "\n",
            "    accuracy                           0.82      5108\n",
            "   macro avg       0.77      0.80      0.78      5108\n",
            "weighted avg       0.84      0.82      0.83      5108\n",
            "\n",
            "Acuracia == 0.8247846515270164\n",
            "Acuracia balanceada == 0.7966479582676055\n"
          ],
          "name": "stdout"
        }
      ]
    },
    {
      "cell_type": "markdown",
      "metadata": {
        "id": "bjgfqubOjf1t"
      },
      "source": [
        "<h4 align=\"center\"> Conjuto da média das melhores traduções</h4>"
      ]
    },
    {
      "cell_type": "code",
      "metadata": {
        "colab": {
          "base_uri": "https://localhost:8080/"
        },
        "id": "ouxbfVIzmc72",
        "outputId": "7f9980d4-0fd9-4fb8-a00c-c29f10b3c730"
      },
      "source": [
        "train_fp = '/content/drive/MyDrive/Projects/IDPT2021/data/balanceado/70-30/train_media_tweets.csv'\n",
        "test_fp = '/content/drive/MyDrive/Projects/IDPT2021/data/balanceado/70-30/test_media_tweets.csv'\n",
        "\n",
        "vec_size = 50\n",
        "#DM model = 1\n",
        "model_option = 1\n",
        "\n",
        "X_train, X_test, y_train, y_test = read_corpus(train_fp, test_fp)\n",
        "\n",
        "d2v_model = train_doc2vec_embeddings(vec_size, model_option, X_train)\n",
        "\n",
        "X_train = infer_d2v_embeddings(d2v_model, X_train)\n",
        "X_test = infer_d2v_embeddings(d2v_model, X_test)\n",
        "\n",
        "classifier = LinearSVC(max_iter=10000)\n",
        "\n",
        "acc_score, ballanced_acc_scores, report = run_classifier(classifier, X_train, X_test, y_train, y_test)\n",
        "\n",
        "print('======Relatório========')\n",
        "print(report)\n",
        "print(\"Acuracia == \" + str(acc_score))\n",
        "print(\"Acuracia balanceada == \" + str(ballanced_acc_scores))"
      ],
      "execution_count": null,
      "outputs": [
        {
          "output_type": "stream",
          "text": [
            "======Relatório========\n",
            "              precision    recall  f1-score   support\n",
            "\n",
            "           0       0.48      0.78      0.59      1132\n",
            "           1       0.92      0.75      0.82      3821\n",
            "\n",
            "    accuracy                           0.75      4953\n",
            "   macro avg       0.70      0.76      0.71      4953\n",
            "weighted avg       0.82      0.75      0.77      4953\n",
            "\n",
            "Acuracia == 0.7528770442156268\n",
            "Acuracia balanceada == 0.7611899045908652\n"
          ],
          "name": "stdout"
        }
      ]
    },
    {
      "cell_type": "code",
      "metadata": {
        "colab": {
          "base_uri": "https://localhost:8080/"
        },
        "id": "t6S34KktmgD9",
        "outputId": "c979e622-1928-4314-8b19-797af735be38"
      },
      "source": [
        "train_fp = '/content/drive/MyDrive/Projects/IDPT2021/data/balanceado/70-30/train_media_tweets.csv'\n",
        "test_fp = '/content/drive/MyDrive/Projects/IDPT2021/data/balanceado/70-30/test_media_tweets.csv'\n",
        "\n",
        "vec_size = 100\n",
        "#DM model = 1\n",
        "model_option = 1\n",
        "\n",
        "X_train, X_test, y_train, y_test = read_corpus(train_fp, test_fp)\n",
        "\n",
        "d2v_model = train_doc2vec_embeddings(vec_size, model_option, X_train)\n",
        "\n",
        "X_train = infer_d2v_embeddings(d2v_model, X_train)\n",
        "X_test = infer_d2v_embeddings(d2v_model, X_test)\n",
        "\n",
        "classifier = LinearSVC(max_iter=10000)\n",
        "\n",
        "acc_score, ballanced_acc_scores, report = run_classifier(classifier, X_train, X_test, y_train, y_test)\n",
        "\n",
        "print('======Relatório========')\n",
        "print(report)\n",
        "print(\"Acuracia == \" + str(acc_score))\n",
        "print(\"Acuracia balanceada == \" + str(ballanced_acc_scores))"
      ],
      "execution_count": null,
      "outputs": [
        {
          "output_type": "stream",
          "text": [
            "======Relatório========\n",
            "              precision    recall  f1-score   support\n",
            "\n",
            "           0       0.50      0.77      0.61      1132\n",
            "           1       0.92      0.77      0.84      3821\n",
            "\n",
            "    accuracy                           0.77      4953\n",
            "   macro avg       0.71      0.77      0.72      4953\n",
            "weighted avg       0.82      0.77      0.79      4953\n",
            "\n",
            "Acuracia == 0.7714516454673935\n",
            "Acuracia balanceada == 0.7726069572744263\n"
          ],
          "name": "stdout"
        }
      ]
    },
    {
      "cell_type": "code",
      "metadata": {
        "id": "Rb0gSAbyjeTO",
        "colab": {
          "base_uri": "https://localhost:8080/"
        },
        "outputId": "0309c20e-3095-453a-caee-94d865088e69"
      },
      "source": [
        "train_fp = '/content/drive/MyDrive/Projects/IDPT2021/data/balanceado/70-30/train_media_tweets.csv'\n",
        "test_fp = '/content/drive/MyDrive/Projects/IDPT2021/data/balanceado/70-30/test_media_tweets.csv'\n",
        "\n",
        "vec_size = 300\n",
        "#DM model = 1\n",
        "model_option = 1\n",
        "\n",
        "X_train, X_test, y_train, y_test = read_corpus(train_fp, test_fp)\n",
        "\n",
        "d2v_model = train_doc2vec_embeddings(vec_size, model_option, X_train)\n",
        "\n",
        "X_train = infer_d2v_embeddings(d2v_model, X_train)\n",
        "X_test = infer_d2v_embeddings(d2v_model, X_test)\n",
        "\n",
        "classifier = LinearSVC(max_iter=10000)\n",
        "\n",
        "acc_score, ballanced_acc_scores, report = run_classifier(classifier, X_train, X_test, y_train, y_test)\n",
        "\n",
        "print('======Relatório========')\n",
        "print(report)\n",
        "print(\"Acuracia == \" + str(acc_score))\n",
        "print(\"Acuracia balanceada == \" + str(ballanced_acc_scores))"
      ],
      "execution_count": null,
      "outputs": [
        {
          "output_type": "stream",
          "text": [
            "======Relatório========\n",
            "              precision    recall  f1-score   support\n",
            "\n",
            "           0       0.56      0.76      0.64      1132\n",
            "           1       0.92      0.82      0.87      3821\n",
            "\n",
            "    accuracy                           0.81      4953\n",
            "   macro avg       0.74      0.79      0.76      4953\n",
            "weighted avg       0.84      0.81      0.82      4953\n",
            "\n",
            "Acuracia == 0.8069856652533818\n",
            "Acuracia balanceada == 0.7900424518399805\n"
          ],
          "name": "stdout"
        }
      ]
    }
  ]
}