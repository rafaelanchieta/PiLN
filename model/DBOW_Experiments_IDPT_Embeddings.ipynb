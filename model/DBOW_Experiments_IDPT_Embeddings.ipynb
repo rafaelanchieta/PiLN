{
  "nbformat": 4,
  "nbformat_minor": 0,
  "metadata": {
    "colab": {
      "name": "DBOW Experiments_IDPT_Embeddings.ipynb",
      "provenance": [],
      "collapsed_sections": []
    },
    "kernelspec": {
      "display_name": "Python 3",
      "name": "python3"
    },
    "language_info": {
      "name": "python"
    }
  },
  "cells": [
    {
      "cell_type": "markdown",
      "metadata": {
        "id": "4x-EEUEDGpW5"
      },
      "source": [
        "<h1 align=\"center\"> Experimentos utilizando o algoritmo Distributed Memory Doc2vec Embeddings </h1>\n",
        "\n",
        "---\n",
        "\n"
      ]
    },
    {
      "cell_type": "markdown",
      "metadata": {
        "id": "TFuzy7oUPZyU"
      },
      "source": [
        "Bibliotecas utilizadas para auxiliar no trabalho de geração e utilização do vetor de palavras Doc2vec"
      ]
    },
    {
      "cell_type": "code",
      "metadata": {
        "id": "VUzl8Ihr_PKb",
        "colab": {
          "base_uri": "https://localhost:8080/"
        },
        "outputId": "171c576c-3995-4a17-cff8-417dfff8c613"
      },
      "source": [
        "from google.colab import drive\n",
        "import gensim\n",
        "from gensim.models import Doc2Vec\n",
        "import pandas as pd\n",
        "import numpy as np\n",
        "from pandas import DataFrame\n",
        "import matplotlib.pyplot as plt\n",
        "from sklearn.model_selection import train_test_split\n",
        "from sklearn.svm import LinearSVC\n",
        "from sklearn.metrics._classification import accuracy_score\n",
        "from sklearn.metrics import balanced_accuracy_score\n",
        "from sklearn.metrics import plot_confusion_matrix\n",
        "from imblearn.over_sampling import SMOTE\n",
        "from collections import Counter\n",
        "from sklearn.model_selection import StratifiedShuffleSplit\n",
        "from sklearn.metrics import f1_score\n",
        "from sklearn.metrics import precision_score\n",
        "from sklearn.metrics import recall_score\n",
        "from sklearn.metrics import classification_report"
      ],
      "execution_count": null,
      "outputs": [
        {
          "output_type": "stream",
          "text": [
            "/usr/local/lib/python3.7/dist-packages/sklearn/externals/six.py:31: FutureWarning: The module is deprecated in version 0.21 and will be removed in version 0.23 since we've dropped support for Python 2.7. Please rely on the official version of six (https://pypi.org/project/six/).\n",
            "  \"(https://pypi.org/project/six/).\", FutureWarning)\n",
            "/usr/local/lib/python3.7/dist-packages/sklearn/utils/deprecation.py:144: FutureWarning: The sklearn.neighbors.base module is  deprecated in version 0.22 and will be removed in version 0.24. The corresponding classes / functions should instead be imported from sklearn.neighbors. Anything that cannot be imported from sklearn.neighbors is now part of the private API.\n",
            "  warnings.warn(message, FutureWarning)\n"
          ],
          "name": "stderr"
        }
      ]
    },
    {
      "cell_type": "markdown",
      "metadata": {
        "id": "hsADPv9sPmNy"
      },
      "source": [
        "Utilização do google drive para acessar o data set e os arquivos de vetores de palavras"
      ]
    },
    {
      "cell_type": "code",
      "metadata": {
        "colab": {
          "base_uri": "https://localhost:8080/"
        },
        "id": "WivlJexLEGwX",
        "outputId": "d47d408e-856b-4c75-fac7-cd6ccdcabb9e"
      },
      "source": [
        "drive.mount('/content/drive')"
      ],
      "execution_count": null,
      "outputs": [
        {
          "output_type": "stream",
          "text": [
            "Mounted at /content/drive\n"
          ],
          "name": "stdout"
        }
      ]
    },
    {
      "cell_type": "markdown",
      "metadata": {
        "id": "VqM_r4VHP0fC"
      },
      "source": [
        "\n",
        "Leitura dos arquivos contendo os dados. Métodos auxiliares para gerar o split de todo o conjunto."
      ]
    },
    {
      "cell_type": "code",
      "metadata": {
        "id": "8Peda4P6HIup"
      },
      "source": [
        "def read_corpus(train_filepath, test_filepath):\n",
        "    \n",
        "    train_data = pd.read_csv(train_filepath, sep=',')\n",
        "    test_data = pd.read_csv(test_filepath, sep=',')\n",
        "    \n",
        "    X_train = []\n",
        "    y_train = []\n",
        "    X_train.extend(train_data['text'].values)\n",
        "    y_train.extend(train_data['prediction'].values)\n",
        "    \n",
        "    X_test = []\n",
        "    y_test = []\n",
        "    X_test.extend(test_data['text'].values)\n",
        "    y_test.extend(test_data['prediction'].values)\n",
        "   \n",
        "    return X_train, X_test, y_train, y_test  \n",
        "\n",
        "def split_data_set(X, y, size):\n",
        "    \n",
        "    X_train, X_test, y_train, y_test = train_test_split(X,y,stratify = y, test_size = size, random_state = 42)\n",
        "\n",
        "    return X_train, X_test, y_train, y_test\n",
        "\n",
        "\n",
        "def prepare_corpus(tweets: list):\n",
        "    for i, line in enumerate(tweets):\n",
        "        tokens = gensim.utils.simple_preprocess(line)\n",
        "        yield gensim.models.doc2vec.TaggedDocument(tokens, [i])\n",
        "\n"
      ],
      "execution_count": null,
      "outputs": []
    },
    {
      "cell_type": "markdown",
      "metadata": {
        "id": "efpUCZV1LYWQ"
      },
      "source": [
        "Método para criação das embeddings a serem utilizadas na classificação"
      ]
    },
    {
      "cell_type": "code",
      "metadata": {
        "colab": {
          "base_uri": "https://localhost:8080/",
          "height": 36
        },
        "id": "WXpNOhEJLXGF",
        "outputId": "d3a43863-afcf-46b2-ef3c-3a2299fd0237"
      },
      "source": [
        "def train_doc2vec_embeddings(vec_size, option, data):\n",
        " \n",
        "    documents = list(prepare_corpus(data))\n",
        "    #model = Doc2Vec(vector_size=vec_size, window=4, min_count=1, epochs=300, sample=1e-4, workers=5)\n",
        "    model = Doc2Vec(vector_size = vec_size, dm = option, window=4, min_count=1, epochs=300, sample=1e-4, workers=5)\n",
        "    model.build_vocab(documents)\n",
        "    model.train(documents, total_examples=model.corpus_count, epochs=model.epochs)\n",
        "    '''\n",
        "    file_name = str(vec_size)+'doc2vec.model'\n",
        "    model.save('/content/drive/MyDrive/Projects/IDPT2021/saved_models/'+ file_name)\n",
        "    '''    \n",
        "    return model\n",
        "'''\n",
        "vector_size = 50\n",
        "option = 1\n",
        "\n",
        "train_and_save(vector_size, option)\n",
        "print('Vector size ' + str(vector_size) + ' done!')\n",
        "'''"
      ],
      "execution_count": null,
      "outputs": [
        {
          "output_type": "execute_result",
          "data": {
            "application/vnd.google.colaboratory.intrinsic+json": {
              "type": "string"
            },
            "text/plain": [
              "\"\\nvector_size = 50\\noption = 1\\n\\ntrain_and_save(vector_size, option)\\nprint('Vector size ' + str(vector_size) + ' done!')\\n\""
            ]
          },
          "metadata": {
            "tags": []
          },
          "execution_count": 4
        }
      ]
    },
    {
      "cell_type": "markdown",
      "metadata": {
        "id": "B_7kWIRLQiEZ"
      },
      "source": [
        "Código para capturar o vetor de palavras já gerado e utiliza-lo para inferir novos vetores de palavras no data set a ser utilizado na classificação.\n",
        "\n",
        "Método de avaliação dos classificadores é através de um hold-out 90/10, com o uso das métricas acurácia e acurácia balanceada."
      ]
    },
    {
      "cell_type": "code",
      "metadata": {
        "id": "Ntkove4-POc7"
      },
      "source": [
        "\n",
        "def infer_d2v_embeddings(d2v_model, X):\n",
        "    \n",
        "    for i in range(len(X)):\n",
        "        model_vector = d2v_model.infer_vector(gensim.utils.simple_preprocess(X[i]))\n",
        "        X[i] = model_vector\n",
        "        \n",
        "    return X\n",
        "\n",
        "def run_classifier(classifier, X_train, X_test, y_train, y_test):\n",
        "    \n",
        "    classifier.fit(X_train,y_train)\n",
        "    \n",
        "    pred = classifier.predict(X_test)\n",
        "    \n",
        "    acc_score = accuracy_score(y_test,pred)\n",
        "    ballanced_acc_score = balanced_accuracy_score(y_test, pred)\n",
        "    classif_report = classification_report(y_test, pred)\n",
        "    \n",
        "    return acc_score, ballanced_acc_score, classif_report"
      ],
      "execution_count": null,
      "outputs": []
    },
    {
      "cell_type": "markdown",
      "metadata": {
        "id": "Z6TQOHISRW3k"
      },
      "source": [
        "<h1 align=\"center\"> <b>Organização</b> </h1>\n",
        "<h2 align=\"center\"> <font color=\"red\"> <b>1 - Experimentos Hold out 90 treino / 10 teste</b> </font> </h2>\n",
        "\n",
        "\n",
        "1.   Distributed Memory === Hold out 90 treino / 10 teste\n",
        "\n",
        "*    Tamanho do vetor de palavras = 50 \n",
        "*    Tamanho do vetor de palavras = 100 \n",
        "*    Tamanho do vetor de palavras = 300 \n",
        "\n",
        "\n",
        "---\n",
        "\n",
        "---\n",
        "\n",
        "\n",
        "\n"
      ]
    },
    {
      "cell_type": "markdown",
      "metadata": {
        "id": "eeig1dm4Wgaw"
      },
      "source": [
        "---\n",
        "\n",
        "<h2 align=\"center\"> <font color=\"red\"> <b>1 - Experimentos Hold out 90 treino / 10 teste</b> </font> </h2>\n",
        "\n",
        "---\n",
        "<h2 align=\"center\"> Distributed Memory size 50</h2>\n"
      ]
    },
    {
      "cell_type": "markdown",
      "metadata": {
        "id": "UZueqxJBbElI"
      },
      "source": [
        "<h4 align=\"center\"> Conjuto das 75% melhores traduções</h4>"
      ]
    },
    {
      "cell_type": "code",
      "metadata": {
        "colab": {
          "base_uri": "https://localhost:8080/"
        },
        "id": "Y2IUiALgpzRw",
        "outputId": "f5444e25-8848-464a-b8c8-69ed1a07be4a"
      },
      "source": [
        "\n",
        "train_fp = '/content/drive/MyDrive/Projects/IDPT2021/data/balanceado/90-10/train_75_tweets.csv'\n",
        "test_fp = '/content/drive/MyDrive/Projects/IDPT2021/data/balanceado/90-10/test_75_tweets.csv'\n",
        "\n",
        "vec_size = 50\n",
        "#DM model = 1\n",
        "model_option = 0\n",
        "\n",
        "X_train, X_test, y_train, y_test = read_corpus(train_fp, test_fp)\n",
        "\n",
        "d2v_model = train_doc2vec_embeddings(vec_size, model_option, X_train)\n",
        "\n",
        "X_train = infer_d2v_embeddings(d2v_model, X_train)\n",
        "X_test = infer_d2v_embeddings(d2v_model, X_test)\n",
        "\n",
        "classifier = LinearSVC(max_iter=10000)\n",
        "\n",
        "acc_score, ballanced_acc_scores, report = run_classifier(classifier, X_train, X_test, y_train, y_test)\n",
        "\n",
        "print('======Relatório========')\n",
        "print(report)\n",
        "print(\"Acuracia == \" + str(acc_score))\n",
        "print(\"Acuracia balanceada == \" + str(ballanced_acc_scores))"
      ],
      "execution_count": null,
      "outputs": [
        {
          "output_type": "stream",
          "text": [
            "======Relatório========\n",
            "              precision    recall  f1-score   support\n",
            "\n",
            "           0       0.84      0.71      0.77       304\n",
            "           1       0.93      0.97      0.95      1286\n",
            "\n",
            "    accuracy                           0.92      1590\n",
            "   macro avg       0.89      0.84      0.86      1590\n",
            "weighted avg       0.92      0.92      0.92      1590\n",
            "\n",
            "Acuracia == 0.9188679245283019\n",
            "Acuracia balanceada == 0.8405781902267333\n"
          ],
          "name": "stdout"
        }
      ]
    },
    {
      "cell_type": "markdown",
      "metadata": {
        "id": "sAgZbatobOfm"
      },
      "source": [
        "<h4 align=\"center\"> Conjuto das 25% melhores traduções</h4>"
      ]
    },
    {
      "cell_type": "code",
      "metadata": {
        "colab": {
          "base_uri": "https://localhost:8080/"
        },
        "id": "upI3sEyuaRGo",
        "outputId": "8a516583-36f4-494d-fcf1-4ccf7ccd0730"
      },
      "source": [
        "\n",
        "train_fp = '/content/drive/MyDrive/Projects/IDPT2021/data/balanceado/90-10/train_25_tweets.csv'\n",
        "test_fp = '/content/drive/MyDrive/Projects/IDPT2021/data/balanceado/90-10/test_25_tweets.csv'\n",
        "\n",
        "vec_size = 50\n",
        "#DM model = 1\n",
        "model_option = 0\n",
        "\n",
        "X_train, X_test, y_train, y_test = read_corpus(train_fp, test_fp)\n",
        "\n",
        "d2v_model = train_doc2vec_embeddings(vec_size, model_option, X_train)\n",
        "\n",
        "X_train = infer_d2v_embeddings(d2v_model, X_train)\n",
        "X_test = infer_d2v_embeddings(d2v_model, X_test)\n",
        "\n",
        "classifier = LinearSVC(max_iter=10000)\n",
        "\n",
        "acc_score, ballanced_acc_scores, report = run_classifier(classifier, X_train, X_test, y_train, y_test)\n",
        "\n",
        "print('======Relatório========')\n",
        "print(report)\n",
        "print(\"Acuracia == \" + str(acc_score))\n",
        "print(\"Acuracia balanceada == \" + str(ballanced_acc_scores))"
      ],
      "execution_count": null,
      "outputs": [
        {
          "output_type": "stream",
          "text": [
            "======Relatório========\n",
            "              precision    recall  f1-score   support\n",
            "\n",
            "           0       0.83      0.61      0.71       424\n",
            "           1       0.88      0.96      0.92      1279\n",
            "\n",
            "    accuracy                           0.87      1703\n",
            "   macro avg       0.86      0.79      0.81      1703\n",
            "weighted avg       0.87      0.87      0.87      1703\n",
            "\n",
            "Acuracia == 0.8731650029359953\n",
            "Acuracia balanceada == 0.7862753920368213\n"
          ],
          "name": "stdout"
        }
      ]
    },
    {
      "cell_type": "markdown",
      "metadata": {
        "id": "YJgSVdvNbSj8"
      },
      "source": [
        "<h4 align=\"center\"> Conjuto da média das melhores traduções</h4>"
      ]
    },
    {
      "cell_type": "code",
      "metadata": {
        "colab": {
          "base_uri": "https://localhost:8080/"
        },
        "id": "wTMixZvKQywM",
        "outputId": "866d5e29-92cf-48a8-85d4-fd53fe6b19e6"
      },
      "source": [
        "\n",
        "train_fp = '/content/drive/MyDrive/Projects/IDPT2021/data/balanceado/90-10/train_media_tweets.csv'\n",
        "test_fp = '/content/drive/MyDrive/Projects/IDPT2021/data/balanceado/90-10/test_media_tweets.csv'\n",
        "\n",
        "vec_size = 50\n",
        "#DM model = 1\n",
        "model_option = 0\n",
        "\n",
        "X_train, X_test, y_train, y_test = read_corpus(train_fp, test_fp)\n",
        "\n",
        "d2v_model = train_doc2vec_embeddings(vec_size, model_option, X_train)\n",
        "\n",
        "X_train = infer_d2v_embeddings(d2v_model, X_train)\n",
        "X_test = infer_d2v_embeddings(d2v_model, X_test)\n",
        "\n",
        "classifier = LinearSVC(max_iter=10000)\n",
        "\n",
        "acc_score, ballanced_acc_scores, report = run_classifier(classifier, X_train, X_test, y_train, y_test)\n",
        "\n",
        "print('======Relatório========')\n",
        "print(report)\n",
        "print(\"Acuracia == \" + str(acc_score))\n",
        "print(\"Acuracia balanceada == \" + str(ballanced_acc_scores))"
      ],
      "execution_count": null,
      "outputs": [
        {
          "output_type": "stream",
          "text": [
            "======Relatório========\n",
            "              precision    recall  f1-score   support\n",
            "\n",
            "           0       0.85      0.60      0.70       361\n",
            "           1       0.90      0.97      0.93      1290\n",
            "\n",
            "    accuracy                           0.89      1651\n",
            "   macro avg       0.87      0.78      0.82      1651\n",
            "weighted avg       0.89      0.89      0.88      1651\n",
            "\n",
            "Acuracia == 0.8891580860084797\n",
            "Acuracia balanceada == 0.7834428482466878\n"
          ],
          "name": "stdout"
        }
      ]
    },
    {
      "cell_type": "markdown",
      "metadata": {
        "id": "uCfBMTCXgZg7"
      },
      "source": [
        "<h2 align=\"center\"> Distributed Memory size 100</h2>\n",
        "\n",
        "<h4 align=\"center\"> Hold out 90 treino / 10 teste </h4>"
      ]
    },
    {
      "cell_type": "markdown",
      "metadata": {
        "id": "ZTE5f2bng2Wl"
      },
      "source": [
        "<h4 align=\"center\"> Conjuto das 75% melhores traduções</h4>"
      ]
    },
    {
      "cell_type": "code",
      "metadata": {
        "id": "EJm79pLegqgi",
        "colab": {
          "base_uri": "https://localhost:8080/"
        },
        "outputId": "ed6893f4-1be9-4a57-9e62-0a0ee904029f"
      },
      "source": [
        "\n",
        "train_fp = '/content/drive/MyDrive/Projects/IDPT2021/data/balanceado/90-10/train_75_tweets.csv'\n",
        "test_fp = '/content/drive/MyDrive/Projects/IDPT2021/data/balanceado/90-10/test_75_tweets.csv'\n",
        "\n",
        "vec_size = 100\n",
        "#DM model = 1\n",
        "model_option = 0\n",
        "\n",
        "X_train, X_test, y_train, y_test = read_corpus(train_fp, test_fp)\n",
        "\n",
        "d2v_model = train_doc2vec_embeddings(vec_size, model_option, X_train)\n",
        "\n",
        "X_train = infer_d2v_embeddings(d2v_model, X_train)\n",
        "X_test = infer_d2v_embeddings(d2v_model, X_test)\n",
        "\n",
        "classifier = LinearSVC(max_iter=10000)\n",
        "\n",
        "acc_score, ballanced_acc_scores, report = run_classifier(classifier, X_train, X_test, y_train, y_test)\n",
        "\n",
        "print('======Relatório========')\n",
        "print(report)\n",
        "print(\"Acuracia == \" + str(acc_score))\n",
        "print(\"Acuracia balanceada == \" + str(ballanced_acc_scores))"
      ],
      "execution_count": null,
      "outputs": [
        {
          "output_type": "stream",
          "text": [
            "======Relatório========\n",
            "              precision    recall  f1-score   support\n",
            "\n",
            "           0       0.83      0.74      0.78       304\n",
            "           1       0.94      0.96      0.95      1286\n",
            "\n",
            "    accuracy                           0.92      1590\n",
            "   macro avg       0.89      0.85      0.87      1590\n",
            "weighted avg       0.92      0.92      0.92      1590\n",
            "\n",
            "Acuracia == 0.9213836477987422\n",
            "Acuracia balanceada == 0.8521808750102317\n"
          ],
          "name": "stdout"
        }
      ]
    },
    {
      "cell_type": "markdown",
      "metadata": {
        "id": "2JwDJc_Bg0V9"
      },
      "source": [
        "<h4 align=\"center\"> Conjuto das 25% melhores traduções</h4>"
      ]
    },
    {
      "cell_type": "code",
      "metadata": {
        "id": "j-K9r4btgxEe",
        "colab": {
          "base_uri": "https://localhost:8080/"
        },
        "outputId": "86f56e6f-7bf6-4efa-d574-33ee10247dca"
      },
      "source": [
        "\n",
        "train_fp = '/content/drive/MyDrive/Projects/IDPT2021/data/balanceado/90-10/train_25_tweets.csv'\n",
        "test_fp = '/content/drive/MyDrive/Projects/IDPT2021/data/balanceado/90-10/test_25_tweets.csv'\n",
        "\n",
        "vec_size = 100\n",
        "#DM model = 1\n",
        "model_option = 0\n",
        "\n",
        "X_train, X_test, y_train, y_test = read_corpus(train_fp, test_fp)\n",
        "\n",
        "d2v_model = train_doc2vec_embeddings(vec_size, model_option, X_train)\n",
        "\n",
        "X_train = infer_d2v_embeddings(d2v_model, X_train)\n",
        "X_test = infer_d2v_embeddings(d2v_model, X_test)\n",
        "\n",
        "classifier = LinearSVC(max_iter=10000)\n",
        "\n",
        "acc_score, ballanced_acc_scores, report = run_classifier(classifier, X_train, X_test, y_train, y_test)\n",
        "\n",
        "print('======Relatório========')\n",
        "print(report)\n",
        "print(\"Acuracia == \" + str(acc_score))\n",
        "print(\"Acuracia balanceada == \" + str(ballanced_acc_scores))"
      ],
      "execution_count": null,
      "outputs": [
        {
          "output_type": "stream",
          "text": [
            "======Relatório========\n",
            "              precision    recall  f1-score   support\n",
            "\n",
            "           0       0.84      0.64      0.73       424\n",
            "           1       0.89      0.96      0.92      1279\n",
            "\n",
            "    accuracy                           0.88      1703\n",
            "   macro avg       0.86      0.80      0.82      1703\n",
            "weighted avg       0.88      0.88      0.87      1703\n",
            "\n",
            "Acuracia == 0.8796241926012919\n",
            "Acuracia balanceada == 0.8000354050186613\n"
          ],
          "name": "stdout"
        }
      ]
    },
    {
      "cell_type": "markdown",
      "metadata": {
        "id": "jkXBaa28g_oT"
      },
      "source": [
        "<h4 align=\"center\"> Conjuto da média das melhores traduções</h4>"
      ]
    },
    {
      "cell_type": "code",
      "metadata": {
        "id": "vUqkDb6ohAZf",
        "colab": {
          "base_uri": "https://localhost:8080/"
        },
        "outputId": "2f431111-d254-4cfe-d8e1-167c48cf55ed"
      },
      "source": [
        "\n",
        "train_fp = '/content/drive/MyDrive/Projects/IDPT2021/data/balanceado/90-10/train_media_tweets.csv'\n",
        "test_fp = '/content/drive/MyDrive/Projects/IDPT2021/data/balanceado/90-10/test_media_tweets.csv'\n",
        "\n",
        "vec_size = 100\n",
        "#DM model = 1\n",
        "model_option = 0\n",
        "\n",
        "X_train, X_test, y_train, y_test = read_corpus(train_fp, test_fp)\n",
        "\n",
        "d2v_model = train_doc2vec_embeddings(vec_size, model_option, X_train)\n",
        "\n",
        "X_train = infer_d2v_embeddings(d2v_model, X_train)\n",
        "X_test = infer_d2v_embeddings(d2v_model, X_test)\n",
        "\n",
        "classifier = LinearSVC(max_iter=10000)\n",
        "\n",
        "acc_score, ballanced_acc_scores, report = run_classifier(classifier, X_train, X_test, y_train, y_test)\n",
        "\n",
        "print('======Relatório========')\n",
        "print(report)\n",
        "print(\"Acuracia == \" + str(acc_score))\n",
        "print(\"Acuracia balanceada == \" + str(ballanced_acc_scores))"
      ],
      "execution_count": null,
      "outputs": [
        {
          "output_type": "stream",
          "text": [
            "======Relatório========\n",
            "              precision    recall  f1-score   support\n",
            "\n",
            "           0       0.85      0.63      0.72       361\n",
            "           1       0.90      0.97      0.93      1290\n",
            "\n",
            "    accuracy                           0.89      1651\n",
            "   macro avg       0.87      0.80      0.83      1651\n",
            "weighted avg       0.89      0.89      0.89      1651\n",
            "\n",
            "Acuracia == 0.8933979406420351\n",
            "Acuracia balanceada == 0.7971279177135004\n"
          ],
          "name": "stdout"
        }
      ]
    },
    {
      "cell_type": "markdown",
      "metadata": {
        "id": "rE299BdsTC16"
      },
      "source": [
        "<h2 align=\"center\"> Distributed Memory size 300</h2>\n",
        "\n",
        "<h4 align=\"center\"> Hold out 90 treino / 10 teste </h4>"
      ]
    },
    {
      "cell_type": "markdown",
      "metadata": {
        "id": "dPumAXf3iT2i"
      },
      "source": [
        "<h4 align=\"center\"> Conjuto das 75% melhores traduções</h4>"
      ]
    },
    {
      "cell_type": "code",
      "metadata": {
        "id": "MhNo6y9NicWx",
        "colab": {
          "base_uri": "https://localhost:8080/"
        },
        "outputId": "c1de3616-0729-491d-c360-e911293f232a"
      },
      "source": [
        "\n",
        "train_fp = '/content/drive/MyDrive/Projects/IDPT2021/data/balanceado/90-10/train_75_tweets.csv'\n",
        "test_fp = '/content/drive/MyDrive/Projects/IDPT2021/data/balanceado/90-10/test_75_tweets.csv'\n",
        "\n",
        "vec_size = 300\n",
        "#DM model = 1\n",
        "model_option = 0\n",
        "\n",
        "X_train, X_test, y_train, y_test = read_corpus(train_fp, test_fp)\n",
        "\n",
        "d2v_model = train_doc2vec_embeddings(vec_size, model_option, X_train)\n",
        "\n",
        "X_train = infer_d2v_embeddings(d2v_model, X_train)\n",
        "X_test = infer_d2v_embeddings(d2v_model, X_test)\n",
        "\n",
        "classifier = LinearSVC(max_iter=10000)\n",
        "\n",
        "acc_score, ballanced_acc_scores, report = run_classifier(classifier, X_train, X_test, y_train, y_test)\n",
        "\n",
        "print('======Relatório========')\n",
        "print(report)\n",
        "print(\"Acuracia == \" + str(acc_score))\n",
        "print(\"Acuracia balanceada == \" + str(ballanced_acc_scores))"
      ],
      "execution_count": null,
      "outputs": [
        {
          "output_type": "stream",
          "text": [
            "======Relatório========\n",
            "              precision    recall  f1-score   support\n",
            "\n",
            "           0       0.85      0.73      0.79       304\n",
            "           1       0.94      0.97      0.95      1286\n",
            "\n",
            "    accuracy                           0.92      1590\n",
            "   macro avg       0.90      0.85      0.87      1590\n",
            "weighted avg       0.92      0.92      0.92      1590\n",
            "\n",
            "Acuracia == 0.9245283018867925\n",
            "Acuracia balanceada == 0.8516130187443726\n"
          ],
          "name": "stdout"
        }
      ]
    },
    {
      "cell_type": "markdown",
      "metadata": {
        "id": "CJG1t6BdiU7h"
      },
      "source": [
        "<h4 align=\"center\"> Conjuto das 25% melhores traduções</h4>"
      ]
    },
    {
      "cell_type": "code",
      "metadata": {
        "id": "R4pomGleiiMb",
        "colab": {
          "base_uri": "https://localhost:8080/"
        },
        "outputId": "2818c99e-8f79-4946-ea12-0312772caa10"
      },
      "source": [
        "\n",
        "train_fp = '/content/drive/MyDrive/Projects/IDPT2021/data/balanceado/90-10/train_25_tweets.csv'\n",
        "test_fp = '/content/drive/MyDrive/Projects/IDPT2021/data/balanceado/90-10/test_25_tweets.csv'\n",
        "\n",
        "vec_size = 300\n",
        "#DM model = 1\n",
        "model_option = 0\n",
        "\n",
        "X_train, X_test, y_train, y_test = read_corpus(train_fp, test_fp)\n",
        "\n",
        "d2v_model = train_doc2vec_embeddings(vec_size, model_option, X_train)\n",
        "\n",
        "X_train = infer_d2v_embeddings(d2v_model, X_train)\n",
        "X_test = infer_d2v_embeddings(d2v_model, X_test)\n",
        "\n",
        "classifier = LinearSVC(max_iter=10000)\n",
        "\n",
        "acc_score, ballanced_acc_scores, report = run_classifier(classifier, X_train, X_test, y_train, y_test)\n",
        "\n",
        "print('======Relatório========')\n",
        "print(report)\n",
        "print(\"Acuracia == \" + str(acc_score))\n",
        "print(\"Acuracia balanceada == \" + str(ballanced_acc_scores))"
      ],
      "execution_count": null,
      "outputs": [
        {
          "output_type": "stream",
          "text": [
            "======Relatório========\n",
            "              precision    recall  f1-score   support\n",
            "\n",
            "           0       0.85      0.66      0.74       424\n",
            "           1       0.89      0.96      0.93      1279\n",
            "\n",
            "    accuracy                           0.89      1703\n",
            "   macro avg       0.87      0.81      0.84      1703\n",
            "weighted avg       0.88      0.89      0.88      1703\n",
            "\n",
            "Acuracia == 0.8866705813270699\n",
            "Acuracia balanceada == 0.8102447740717247\n"
          ],
          "name": "stdout"
        }
      ]
    },
    {
      "cell_type": "markdown",
      "metadata": {
        "id": "mz-EWEyViYOq"
      },
      "source": [
        "<h4 align=\"center\"> Conjuto da média das melhores traduções</h4>"
      ]
    },
    {
      "cell_type": "code",
      "metadata": {
        "id": "QsNesimfil46",
        "colab": {
          "base_uri": "https://localhost:8080/"
        },
        "outputId": "f8f84dd0-2749-498b-d31d-6535c6347838"
      },
      "source": [
        "\n",
        "train_fp = '/content/drive/MyDrive/Projects/IDPT2021/data/balanceado/90-10/train_media_tweets.csv'\n",
        "test_fp = '/content/drive/MyDrive/Projects/IDPT2021/data/balanceado/90-10/test_media_tweets.csv'\n",
        "\n",
        "vec_size = 100\n",
        "#DM model = 1\n",
        "model_option = 0\n",
        "\n",
        "X_train, X_test, y_train, y_test = read_corpus(train_fp, test_fp)\n",
        "\n",
        "d2v_model = train_doc2vec_embeddings(vec_size, model_option, X_train)\n",
        "\n",
        "X_train = infer_d2v_embeddings(d2v_model, X_train)\n",
        "X_test = infer_d2v_embeddings(d2v_model, X_test)\n",
        "\n",
        "classifier = LinearSVC(max_iter=10000)\n",
        "\n",
        "acc_score, ballanced_acc_scores, report = run_classifier(classifier, X_train, X_test, y_train, y_test)\n",
        "\n",
        "print('======Relatório========')\n",
        "print(report)\n",
        "print(\"Acuracia == \" + str(acc_score))\n",
        "print(\"Acuracia balanceada == \" + str(ballanced_acc_scores))"
      ],
      "execution_count": null,
      "outputs": [
        {
          "output_type": "stream",
          "text": [
            "======Relatório========\n",
            "              precision    recall  f1-score   support\n",
            "\n",
            "           0       0.82      0.66      0.73       361\n",
            "           1       0.91      0.96      0.93      1290\n",
            "\n",
            "    accuracy                           0.89      1651\n",
            "   macro avg       0.86      0.81      0.83      1651\n",
            "weighted avg       0.89      0.89      0.89      1651\n",
            "\n",
            "Acuracia == 0.8927922471229558\n",
            "Acuracia balanceada == 0.8087096566385363\n"
          ],
          "name": "stdout"
        }
      ]
    },
    {
      "cell_type": "markdown",
      "metadata": {
        "id": "l8nzcd8rJqZ8"
      },
      "source": [
        "<h2 align=\"center\"> <font color=\"red\"> <b>2 - Experimentos Hold out 80 treino / 20 teste</b> </font> </h2>\n",
        "\n",
        "\n",
        "\n",
        "2.   Distributed Memory === Hold out 80 treino / 20 teste\n",
        "\n",
        "*    Tamanho do vetor de palavras = 50 \n",
        "*    Tamanho do vetor de palavras = 100 \n",
        "*    Tamanho do vetor de palavras = 300 "
      ]
    },
    {
      "cell_type": "markdown",
      "metadata": {
        "id": "IVdbyiMiiyot"
      },
      "source": [
        "<h4 align=\"center\"> Conjuto das 75% melhores traduções</h4>"
      ]
    },
    {
      "cell_type": "code",
      "metadata": {
        "id": "lGZqZtWRl02d",
        "colab": {
          "base_uri": "https://localhost:8080/"
        },
        "outputId": "72304ee2-6300-4b68-9918-3bebf6d8d6aa"
      },
      "source": [
        "train_fp = '/content/drive/MyDrive/Projects/IDPT2021/data/balanceado/80-20/train_75_tweets.csv'\n",
        "test_fp = '/content/drive/MyDrive/Projects/IDPT2021/data/balanceado/80-20/test_75_tweets.csv'\n",
        "\n",
        "vec_size = 50\n",
        "#DM model = 1\n",
        "model_option = 0\n",
        "\n",
        "X_train, X_test, y_train, y_test = read_corpus(train_fp, test_fp)\n",
        "\n",
        "d2v_model = train_doc2vec_embeddings(vec_size, model_option, X_train)\n",
        "\n",
        "X_train = infer_d2v_embeddings(d2v_model, X_train)\n",
        "X_test = infer_d2v_embeddings(d2v_model, X_test)\n",
        "\n",
        "classifier = LinearSVC(max_iter=10000)\n",
        "\n",
        "acc_score, ballanced_acc_scores, report = run_classifier(classifier, X_train, X_test, y_train, y_test)\n",
        "\n",
        "print('======Relatório========')\n",
        "print(report)\n",
        "print(\"Acuracia == \" + str(acc_score))\n",
        "print(\"Acuracia balanceada == \" + str(ballanced_acc_scores))"
      ],
      "execution_count": null,
      "outputs": [
        {
          "output_type": "stream",
          "text": [
            "======Relatório========\n",
            "              precision    recall  f1-score   support\n",
            "\n",
            "           0       0.84      0.69      0.76       621\n",
            "           1       0.93      0.97      0.95      2558\n",
            "\n",
            "    accuracy                           0.91      3179\n",
            "   macro avg       0.89      0.83      0.85      3179\n",
            "weighted avg       0.91      0.91      0.91      3179\n",
            "\n",
            "Acuracia == 0.9144385026737968\n",
            "Acuracia balanceada == 0.8297734114438741\n"
          ],
          "name": "stdout"
        }
      ]
    },
    {
      "cell_type": "code",
      "metadata": {
        "id": "qs5oNnSrl4Nc",
        "colab": {
          "base_uri": "https://localhost:8080/"
        },
        "outputId": "ec3da8a3-2923-416d-af14-0bf01cb45f3d"
      },
      "source": [
        "train_fp = '/content/drive/MyDrive/Projects/IDPT2021/data/balanceado/80-20/train_75_tweets.csv'\n",
        "test_fp = '/content/drive/MyDrive/Projects/IDPT2021/data/balanceado/80-20/test_75_tweets.csv'\n",
        "\n",
        "vec_size = 100\n",
        "#DM model = 1\n",
        "model_option = 0\n",
        "\n",
        "X_train, X_test, y_train, y_test = read_corpus(train_fp, test_fp)\n",
        "\n",
        "d2v_model = train_doc2vec_embeddings(vec_size, model_option, X_train)\n",
        "\n",
        "X_train = infer_d2v_embeddings(d2v_model, X_train)\n",
        "X_test = infer_d2v_embeddings(d2v_model, X_test)\n",
        "\n",
        "classifier = LinearSVC(max_iter=10000)\n",
        "\n",
        "acc_score, ballanced_acc_scores, report = run_classifier(classifier, X_train, X_test, y_train, y_test)\n",
        "\n",
        "print('======Relatório========')\n",
        "print(report)\n",
        "print(\"Acuracia == \" + str(acc_score))\n",
        "print(\"Acuracia balanceada == \" + str(ballanced_acc_scores))"
      ],
      "execution_count": null,
      "outputs": [
        {
          "output_type": "stream",
          "text": [
            "======Relatório========\n",
            "              precision    recall  f1-score   support\n",
            "\n",
            "           0       0.85      0.73      0.78       621\n",
            "           1       0.94      0.97      0.95      2558\n",
            "\n",
            "    accuracy                           0.92      3179\n",
            "   macro avg       0.89      0.85      0.87      3179\n",
            "weighted avg       0.92      0.92      0.92      3179\n",
            "\n",
            "Acuracia == 0.9216734822271154\n",
            "Acuracia balanceada == 0.8489016177342655\n"
          ],
          "name": "stdout"
        }
      ]
    },
    {
      "cell_type": "code",
      "metadata": {
        "id": "lgNre2UcizAe",
        "colab": {
          "base_uri": "https://localhost:8080/"
        },
        "outputId": "a13eded9-1446-4040-cf3d-01ff8324e1bf"
      },
      "source": [
        "train_fp = '/content/drive/MyDrive/Projects/IDPT2021/data/balanceado/80-20/train_75_tweets.csv'\n",
        "test_fp = '/content/drive/MyDrive/Projects/IDPT2021/data/balanceado/80-20/test_75_tweets.csv'\n",
        "\n",
        "vec_size = 300\n",
        "#DM model = 1\n",
        "model_option = 0\n",
        "\n",
        "X_train, X_test, y_train, y_test = read_corpus(train_fp, test_fp)\n",
        "\n",
        "d2v_model = train_doc2vec_embeddings(vec_size, model_option, X_train)\n",
        "\n",
        "X_train = infer_d2v_embeddings(d2v_model, X_train)\n",
        "X_test = infer_d2v_embeddings(d2v_model, X_test)\n",
        "\n",
        "classifier = LinearSVC(max_iter=10000)\n",
        "\n",
        "acc_score, ballanced_acc_scores, report = run_classifier(classifier, X_train, X_test, y_train, y_test)\n",
        "\n",
        "print('======Relatório========')\n",
        "print(report)\n",
        "print(\"Acuracia == \" + str(acc_score))\n",
        "print(\"Acuracia balanceada == \" + str(ballanced_acc_scores))"
      ],
      "execution_count": null,
      "outputs": [
        {
          "output_type": "stream",
          "text": [
            "======Relatório========\n",
            "              precision    recall  f1-score   support\n",
            "\n",
            "           0       0.89      0.72      0.80       621\n",
            "           1       0.93      0.98      0.96      2558\n",
            "\n",
            "    accuracy                           0.93      3179\n",
            "   macro avg       0.91      0.85      0.88      3179\n",
            "weighted avg       0.93      0.93      0.93      3179\n",
            "\n",
            "Acuracia == 0.9282793331236238\n",
            "Acuracia balanceada == 0.8487385726822108\n"
          ],
          "name": "stdout"
        }
      ]
    },
    {
      "cell_type": "markdown",
      "metadata": {
        "id": "Jj1Ovl-XjPM_"
      },
      "source": [
        "<h4 align=\"center\"> Conjuto das 25% melhores traduções</h4>"
      ]
    },
    {
      "cell_type": "code",
      "metadata": {
        "id": "tWnlYXSbl-LW",
        "colab": {
          "base_uri": "https://localhost:8080/"
        },
        "outputId": "9bebf744-b287-4cb8-d26e-522e8a450173"
      },
      "source": [
        "train_fp = '/content/drive/MyDrive/Projects/IDPT2021/data/balanceado/80-20/train_25_tweets.csv'\n",
        "test_fp = '/content/drive/MyDrive/Projects/IDPT2021/data/balanceado/80-20/test_25_tweets.csv'\n",
        "\n",
        "vec_size = 50\n",
        "#DM model = 1\n",
        "model_option = 0\n",
        "\n",
        "X_train, X_test, y_train, y_test = read_corpus(train_fp, test_fp)\n",
        "\n",
        "d2v_model = train_doc2vec_embeddings(vec_size, model_option, X_train)\n",
        "\n",
        "X_train = infer_d2v_embeddings(d2v_model, X_train)\n",
        "X_test = infer_d2v_embeddings(d2v_model, X_test)\n",
        "\n",
        "classifier = LinearSVC(max_iter=10000)\n",
        "\n",
        "acc_score, ballanced_acc_scores, report = run_classifier(classifier, X_train, X_test, y_train, y_test)\n",
        "\n",
        "print('======Relatório========')\n",
        "print(report)\n",
        "print(\"Acuracia == \" + str(acc_score))\n",
        "print(\"Acuracia balanceada == \" + str(ballanced_acc_scores))"
      ],
      "execution_count": null,
      "outputs": [
        {
          "output_type": "stream",
          "text": [
            "======Relatório========\n",
            "              precision    recall  f1-score   support\n",
            "\n",
            "           0       0.86      0.58      0.69       858\n",
            "           1       0.87      0.97      0.92      2547\n",
            "\n",
            "    accuracy                           0.87      3405\n",
            "   macro avg       0.87      0.77      0.81      3405\n",
            "weighted avg       0.87      0.87      0.86      3405\n",
            "\n",
            "Acuracia == 0.8701908957415565\n",
            "Acuracia balanceada == 0.7741124207555303\n"
          ],
          "name": "stdout"
        }
      ]
    },
    {
      "cell_type": "code",
      "metadata": {
        "id": "tUoA2FfLmB4J",
        "colab": {
          "base_uri": "https://localhost:8080/"
        },
        "outputId": "f3505044-a325-46d4-a1fb-50ea3d0eaffa"
      },
      "source": [
        "train_fp = '/content/drive/MyDrive/Projects/IDPT2021/data/balanceado/80-20/train_25_tweets.csv'\n",
        "test_fp = '/content/drive/MyDrive/Projects/IDPT2021/data/balanceado/80-20/test_25_tweets.csv'\n",
        "\n",
        "vec_size = 100\n",
        "#DM model = 1\n",
        "model_option = 0\n",
        "\n",
        "X_train, X_test, y_train, y_test = read_corpus(train_fp, test_fp)\n",
        "\n",
        "d2v_model = train_doc2vec_embeddings(vec_size, model_option, X_train)\n",
        "\n",
        "X_train = infer_d2v_embeddings(d2v_model, X_train)\n",
        "X_test = infer_d2v_embeddings(d2v_model, X_test)\n",
        "\n",
        "classifier = LinearSVC(max_iter=10000)\n",
        "\n",
        "acc_score, ballanced_acc_scores, report = run_classifier(classifier, X_train, X_test, y_train, y_test)\n",
        "\n",
        "print('======Relatório========')\n",
        "print(report)\n",
        "print(\"Acuracia == \" + str(acc_score))\n",
        "print(\"Acuracia balanceada == \" + str(ballanced_acc_scores))"
      ],
      "execution_count": null,
      "outputs": [
        {
          "output_type": "stream",
          "text": [
            "======Relatório========\n",
            "              precision    recall  f1-score   support\n",
            "\n",
            "           0       0.85      0.59      0.70       858\n",
            "           1       0.87      0.96      0.92      2547\n",
            "\n",
            "    accuracy                           0.87      3405\n",
            "   macro avg       0.86      0.78      0.81      3405\n",
            "weighted avg       0.87      0.87      0.86      3405\n",
            "\n",
            "Acuracia == 0.8698972099853157\n",
            "Acuracia balanceada == 0.7770076409652382\n"
          ],
          "name": "stdout"
        }
      ]
    },
    {
      "cell_type": "code",
      "metadata": {
        "id": "0JKzCxbZjTgZ",
        "colab": {
          "base_uri": "https://localhost:8080/"
        },
        "outputId": "e88bc4d1-26b9-43dd-974a-c3d90ea3f725"
      },
      "source": [
        "train_fp = '/content/drive/MyDrive/Projects/IDPT2021/data/balanceado/80-20/train_25_tweets.csv'\n",
        "test_fp = '/content/drive/MyDrive/Projects/IDPT2021/data/balanceado/80-20/test_25_tweets.csv'\n",
        "\n",
        "vec_size = 300\n",
        "#DM model = 1\n",
        "model_option = 0\n",
        "\n",
        "X_train, X_test, y_train, y_test = read_corpus(train_fp, test_fp)\n",
        "\n",
        "d2v_model = train_doc2vec_embeddings(vec_size, model_option, X_train)\n",
        "\n",
        "X_train = infer_d2v_embeddings(d2v_model, X_train)\n",
        "X_test = infer_d2v_embeddings(d2v_model, X_test)\n",
        "\n",
        "classifier = LinearSVC(max_iter=10000)\n",
        "\n",
        "acc_score, ballanced_acc_scores, report = run_classifier(classifier, X_train, X_test, y_train, y_test)\n",
        "\n",
        "print('======Relatório========')\n",
        "print(report)\n",
        "print(\"Acuracia == \" + str(acc_score))\n",
        "print(\"Acuracia balanceada == \" + str(ballanced_acc_scores))"
      ],
      "execution_count": null,
      "outputs": [
        {
          "output_type": "stream",
          "text": [
            "======Relatório========\n",
            "              precision    recall  f1-score   support\n",
            "\n",
            "           0       0.88      0.65      0.75       858\n",
            "           1       0.89      0.97      0.93      2547\n",
            "\n",
            "    accuracy                           0.89      3405\n",
            "   macro avg       0.88      0.81      0.84      3405\n",
            "weighted avg       0.89      0.89      0.88      3405\n",
            "\n",
            "Acuracia == 0.8883994126284875\n",
            "Acuracia balanceada == 0.8086971920894183\n"
          ],
          "name": "stdout"
        }
      ]
    },
    {
      "cell_type": "markdown",
      "metadata": {
        "id": "co2pdrCRjR4-"
      },
      "source": [
        "<h4 align=\"center\"> Conjuto da média das melhores traduções</h4>"
      ]
    },
    {
      "cell_type": "code",
      "metadata": {
        "id": "GeeKO9wemFta",
        "colab": {
          "base_uri": "https://localhost:8080/"
        },
        "outputId": "b8366e9f-deb3-48fa-c5b8-384766f77834"
      },
      "source": [
        "train_fp = '/content/drive/MyDrive/Projects/IDPT2021/data/balanceado/80-20/train_media_tweets.csv'\n",
        "test_fp = '/content/drive/MyDrive/Projects/IDPT2021/data/balanceado/80-20/test_media_tweets.csv'\n",
        "\n",
        "vec_size = 50\n",
        "#DM model = 1\n",
        "model_option = 0\n",
        "\n",
        "X_train, X_test, y_train, y_test = read_corpus(train_fp, test_fp)\n",
        "\n",
        "d2v_model = train_doc2vec_embeddings(vec_size, model_option, X_train)\n",
        "\n",
        "X_train = infer_d2v_embeddings(d2v_model, X_train)\n",
        "X_test = infer_d2v_embeddings(d2v_model, X_test)\n",
        "\n",
        "classifier = LinearSVC(max_iter=10000)\n",
        "\n",
        "acc_score, ballanced_acc_scores, report = run_classifier(classifier, X_train, X_test, y_train, y_test)\n",
        "\n",
        "print('======Relatório========')\n",
        "print(report)\n",
        "print(\"Acuracia == \" + str(acc_score))\n",
        "print(\"Acuracia balanceada == \" + str(ballanced_acc_scores))"
      ],
      "execution_count": null,
      "outputs": [
        {
          "output_type": "stream",
          "text": [
            "======Relatório========\n",
            "              precision    recall  f1-score   support\n",
            "\n",
            "           0       0.83      0.61      0.70       744\n",
            "           1       0.89      0.96      0.93      2558\n",
            "\n",
            "    accuracy                           0.88      3302\n",
            "   macro avg       0.86      0.79      0.81      3302\n",
            "weighted avg       0.88      0.88      0.88      3302\n",
            "\n",
            "Acuracia == 0.8834039975772259\n",
            "Acuracia balanceada == 0.7860617543948145\n"
          ],
          "name": "stdout"
        }
      ]
    },
    {
      "cell_type": "code",
      "metadata": {
        "id": "CDA6QhjgmKCy",
        "colab": {
          "base_uri": "https://localhost:8080/"
        },
        "outputId": "89d311b6-d0df-4933-c066-520fb023b7e9"
      },
      "source": [
        "train_fp = '/content/drive/MyDrive/Projects/IDPT2021/data/balanceado/80-20/train_media_tweets.csv'\n",
        "test_fp = '/content/drive/MyDrive/Projects/IDPT2021/data/balanceado/80-20/test_media_tweets.csv'\n",
        "\n",
        "vec_size = 100\n",
        "#DM model = 1\n",
        "model_option = 0\n",
        "\n",
        "X_train, X_test, y_train, y_test = read_corpus(train_fp, test_fp)\n",
        "\n",
        "d2v_model = train_doc2vec_embeddings(vec_size, model_option, X_train)\n",
        "\n",
        "X_train = infer_d2v_embeddings(d2v_model, X_train)\n",
        "X_test = infer_d2v_embeddings(d2v_model, X_test)\n",
        "\n",
        "classifier = LinearSVC(max_iter=10000)\n",
        "\n",
        "acc_score, ballanced_acc_scores, report = run_classifier(classifier, X_train, X_test, y_train, y_test)\n",
        "\n",
        "print('======Relatório========')\n",
        "print(report)\n",
        "print(\"Acuracia == \" + str(acc_score))\n",
        "print(\"Acuracia balanceada == \" + str(ballanced_acc_scores))"
      ],
      "execution_count": null,
      "outputs": [
        {
          "output_type": "stream",
          "text": [
            "======Relatório========\n",
            "              precision    recall  f1-score   support\n",
            "\n",
            "           0       0.82      0.66      0.73       744\n",
            "           1       0.91      0.96      0.93      2558\n",
            "\n",
            "    accuracy                           0.89      3302\n",
            "   macro avg       0.86      0.81      0.83      3302\n",
            "weighted avg       0.89      0.89      0.89      3302\n",
            "\n",
            "Acuracia == 0.8909751665657177\n",
            "Acuracia balanceada == 0.808105185502787\n"
          ],
          "name": "stdout"
        }
      ]
    },
    {
      "cell_type": "code",
      "metadata": {
        "id": "hyZVbdNujS-O",
        "colab": {
          "base_uri": "https://localhost:8080/"
        },
        "outputId": "cd0726db-3cae-4e7b-cc46-d61fb73a0959"
      },
      "source": [
        "train_fp = '/content/drive/MyDrive/Projects/IDPT2021/data/balanceado/80-20/train_media_tweets.csv'\n",
        "test_fp = '/content/drive/MyDrive/Projects/IDPT2021/data/balanceado/80-20/test_media_tweets.csv'\n",
        "\n",
        "vec_size = 300\n",
        "#DM model = 1\n",
        "model_option = 0\n",
        "\n",
        "X_train, X_test, y_train, y_test = read_corpus(train_fp, test_fp)\n",
        "\n",
        "d2v_model = train_doc2vec_embeddings(vec_size, model_option, X_train)\n",
        "\n",
        "X_train = infer_d2v_embeddings(d2v_model, X_train)\n",
        "X_test = infer_d2v_embeddings(d2v_model, X_test)\n",
        "\n",
        "classifier = LinearSVC(max_iter=10000)\n",
        "\n",
        "acc_score, ballanced_acc_scores, report = run_classifier(classifier, X_train, X_test, y_train, y_test)\n",
        "\n",
        "print('======Relatório========')\n",
        "print(report)\n",
        "print(\"Acuracia == \" + str(acc_score))\n",
        "print(\"Acuracia balanceada == \" + str(ballanced_acc_scores))"
      ],
      "execution_count": null,
      "outputs": [
        {
          "output_type": "stream",
          "text": [
            "======Relatório========\n",
            "              precision    recall  f1-score   support\n",
            "\n",
            "           0       0.88      0.68      0.77       744\n",
            "           1       0.91      0.97      0.94      2558\n",
            "\n",
            "    accuracy                           0.91      3302\n",
            "   macro avg       0.89      0.83      0.85      3302\n",
            "weighted avg       0.90      0.91      0.90      3302\n",
            "\n",
            "Acuracia == 0.9061175045427013\n",
            "Acuracia balanceada == 0.825503690719396\n"
          ],
          "name": "stdout"
        }
      ]
    },
    {
      "cell_type": "markdown",
      "metadata": {
        "id": "Qto6rTVTJuWr"
      },
      "source": [
        "<h2 align=\"center\"> <font color=\"red\"> <b>3 - Experimentos Hold out 70 treino / 30 teste</b> </font> </h2>\n",
        "\n",
        "\n",
        "\n",
        "3.   Distributed Memory === Hold out 70 treino / 30 teste\n",
        "\n",
        "*    Tamanho do vetor de palavras = 50 \n",
        "*    Tamanho do vetor de palavras = 100 \n",
        "*    Tamanho do vetor de palavras = 300 "
      ]
    },
    {
      "cell_type": "markdown",
      "metadata": {
        "id": "tK7thEL3jhLn"
      },
      "source": [
        "<h4 align=\"center\"> Conjuto das 75% melhores traduções</h4>"
      ]
    },
    {
      "cell_type": "code",
      "metadata": {
        "id": "rTuY2Y01mN8V",
        "colab": {
          "base_uri": "https://localhost:8080/"
        },
        "outputId": "25e5a4f1-288f-4129-a1f2-d01a97bb5df6"
      },
      "source": [
        "train_fp = '/content/drive/MyDrive/Projects/IDPT2021/data/balanceado/70-30/train_75_tweets.csv'\n",
        "test_fp = '/content/drive/MyDrive/Projects/IDPT2021/data/balanceado/70-30/test_75_tweets.csv'\n",
        "\n",
        "vec_size = 50\n",
        "#DM model = 1\n",
        "model_option = 0\n",
        "\n",
        "X_train, X_test, y_train, y_test = read_corpus(train_fp, test_fp)\n",
        "\n",
        "d2v_model = train_doc2vec_embeddings(vec_size, model_option, X_train)\n",
        "\n",
        "X_train = infer_d2v_embeddings(d2v_model, X_train)\n",
        "X_test = infer_d2v_embeddings(d2v_model, X_test)\n",
        "\n",
        "classifier = LinearSVC(max_iter=10000)\n",
        "\n",
        "acc_score, ballanced_acc_scores, report = run_classifier(classifier, X_train, X_test, y_train, y_test)\n",
        "\n",
        "print('======Relatório========')\n",
        "print(report)\n",
        "print(\"Acuracia == \" + str(acc_score))\n",
        "print(\"Acuracia balanceada == \" + str(ballanced_acc_scores))"
      ],
      "execution_count": null,
      "outputs": [
        {
          "output_type": "stream",
          "text": [
            "======Relatório========\n",
            "              precision    recall  f1-score   support\n",
            "\n",
            "           0       0.82      0.68      0.74       925\n",
            "           1       0.93      0.96      0.94      3843\n",
            "\n",
            "    accuracy                           0.91      4768\n",
            "   macro avg       0.87      0.82      0.84      4768\n",
            "weighted avg       0.91      0.91      0.91      4768\n",
            "\n",
            "Acuracia == 0.9091862416107382\n",
            "Acuracia balanceada == 0.8234066853738985\n"
          ],
          "name": "stdout"
        }
      ]
    },
    {
      "cell_type": "code",
      "metadata": {
        "id": "Rbgp5CQcmRYO",
        "colab": {
          "base_uri": "https://localhost:8080/"
        },
        "outputId": "bd38e0f6-cc73-42e3-a158-ee0f7a5e72f5"
      },
      "source": [
        "train_fp = '/content/drive/MyDrive/Projects/IDPT2021/data/balanceado/70-30/train_75_tweets.csv'\n",
        "test_fp = '/content/drive/MyDrive/Projects/IDPT2021/data/balanceado/70-30/test_75_tweets.csv'\n",
        "\n",
        "vec_size = 100\n",
        "#DM model = 1\n",
        "model_option = 0\n",
        "\n",
        "X_train, X_test, y_train, y_test = read_corpus(train_fp, test_fp)\n",
        "\n",
        "d2v_model = train_doc2vec_embeddings(vec_size, model_option, X_train)\n",
        "\n",
        "X_train = infer_d2v_embeddings(d2v_model, X_train)\n",
        "X_test = infer_d2v_embeddings(d2v_model, X_test)\n",
        "\n",
        "classifier = LinearSVC(max_iter=10000)\n",
        "\n",
        "acc_score, ballanced_acc_scores, report = run_classifier(classifier, X_train, X_test, y_train, y_test)\n",
        "\n",
        "print('======Relatório========')\n",
        "print(report)\n",
        "print(\"Acuracia == \" + str(acc_score))\n",
        "print(\"Acuracia balanceada == \" + str(ballanced_acc_scores))"
      ],
      "execution_count": null,
      "outputs": [
        {
          "output_type": "stream",
          "text": [
            "======Relatório========\n",
            "              precision    recall  f1-score   support\n",
            "\n",
            "           0       0.84      0.73      0.78       925\n",
            "           1       0.94      0.97      0.95      3843\n",
            "\n",
            "    accuracy                           0.92      4768\n",
            "   macro avg       0.89      0.85      0.87      4768\n",
            "weighted avg       0.92      0.92      0.92      4768\n",
            "\n",
            "Acuracia == 0.9213506711409396\n",
            "Acuracia balanceada == 0.8494223966355114\n"
          ],
          "name": "stdout"
        }
      ]
    },
    {
      "cell_type": "code",
      "metadata": {
        "id": "h5Wsjf-tjfMW",
        "colab": {
          "base_uri": "https://localhost:8080/"
        },
        "outputId": "942e9287-c812-42c6-9007-8fec400a60d4"
      },
      "source": [
        "train_fp = '/content/drive/MyDrive/Projects/IDPT2021/data/balanceado/70-30/train_75_tweets.csv'\n",
        "test_fp = '/content/drive/MyDrive/Projects/IDPT2021/data/balanceado/70-30/test_75_tweets.csv'\n",
        "\n",
        "vec_size = 300\n",
        "#DM model = 1\n",
        "model_option = 0\n",
        "\n",
        "X_train, X_test, y_train, y_test = read_corpus(train_fp, test_fp)\n",
        "\n",
        "d2v_model = train_doc2vec_embeddings(vec_size, model_option, X_train)\n",
        "\n",
        "X_train = infer_d2v_embeddings(d2v_model, X_train)\n",
        "X_test = infer_d2v_embeddings(d2v_model, X_test)\n",
        "\n",
        "classifier = LinearSVC(max_iter=10000)\n",
        "\n",
        "acc_score, ballanced_acc_scores, report = run_classifier(classifier, X_train, X_test, y_train, y_test)\n",
        "\n",
        "print('======Relatório========')\n",
        "print(report)\n",
        "print(\"Acuracia == \" + str(acc_score))\n",
        "print(\"Acuracia balanceada == \" + str(ballanced_acc_scores))"
      ],
      "execution_count": null,
      "outputs": [
        {
          "output_type": "stream",
          "text": [
            "======Relatório========\n",
            "              precision    recall  f1-score   support\n",
            "\n",
            "           0       0.89      0.74      0.81       925\n",
            "           1       0.94      0.98      0.96      3843\n",
            "\n",
            "    accuracy                           0.93      4768\n",
            "   macro avg       0.92      0.86      0.88      4768\n",
            "weighted avg       0.93      0.93      0.93      4768\n",
            "\n",
            "Acuracia == 0.9324664429530202\n",
            "Acuracia balanceada == 0.8596015218966039\n"
          ],
          "name": "stdout"
        }
      ]
    },
    {
      "cell_type": "markdown",
      "metadata": {
        "id": "Z4kr4bCCjhvY"
      },
      "source": [
        "<h4 align=\"center\"> Conjuto das 25% melhores traduções</h4>"
      ]
    },
    {
      "cell_type": "code",
      "metadata": {
        "id": "K2ZDEmX-mVq4",
        "colab": {
          "base_uri": "https://localhost:8080/"
        },
        "outputId": "fbf08b8f-f6d4-4cc5-e3e1-4e31e58b95d9"
      },
      "source": [
        "train_fp = '/content/drive/MyDrive/Projects/IDPT2021/data/balanceado/70-30/train_25_tweets.csv'\n",
        "test_fp = '/content/drive/MyDrive/Projects/IDPT2021/data/balanceado/70-30/test_25_tweets.csv'\n",
        "\n",
        "vec_size = 50\n",
        "#DM model = 1\n",
        "model_option = 0\n",
        "\n",
        "X_train, X_test, y_train, y_test = read_corpus(train_fp, test_fp)\n",
        "\n",
        "d2v_model = train_doc2vec_embeddings(vec_size, model_option, X_train)\n",
        "\n",
        "X_train = infer_d2v_embeddings(d2v_model, X_train)\n",
        "X_test = infer_d2v_embeddings(d2v_model, X_test)\n",
        "\n",
        "classifier = LinearSVC(max_iter=10000)\n",
        "\n",
        "acc_score, ballanced_acc_scores, report = run_classifier(classifier, X_train, X_test, y_train, y_test)\n",
        "\n",
        "print('======Relatório========')\n",
        "print(report)\n",
        "print(\"Acuracia == \" + str(acc_score))\n",
        "print(\"Acuracia balanceada == \" + str(ballanced_acc_scores))"
      ],
      "execution_count": null,
      "outputs": [
        {
          "output_type": "stream",
          "text": [
            "======Relatório========\n",
            "              precision    recall  f1-score   support\n",
            "\n",
            "           0       0.85      0.52      0.65      1316\n",
            "           1       0.85      0.97      0.91      3792\n",
            "\n",
            "    accuracy                           0.85      5108\n",
            "   macro avg       0.85      0.75      0.78      5108\n",
            "weighted avg       0.85      0.85      0.84      5108\n",
            "\n",
            "Acuracia == 0.8537588097102584\n",
            "Acuracia balanceada == 0.745707248021751\n"
          ],
          "name": "stdout"
        }
      ]
    },
    {
      "cell_type": "code",
      "metadata": {
        "id": "mjnhY2rlmYyg",
        "colab": {
          "base_uri": "https://localhost:8080/"
        },
        "outputId": "32d5d418-44ce-47be-e524-37b6675e7085"
      },
      "source": [
        "train_fp = '/content/drive/MyDrive/Projects/IDPT2021/data/balanceado/70-30/train_25_tweets.csv'\n",
        "test_fp = '/content/drive/MyDrive/Projects/IDPT2021/data/balanceado/70-30/test_25_tweets.csv'\n",
        "\n",
        "vec_size = 100\n",
        "#DM model = 1\n",
        "model_option = 0\n",
        "\n",
        "X_train, X_test, y_train, y_test = read_corpus(train_fp, test_fp)\n",
        "\n",
        "d2v_model = train_doc2vec_embeddings(vec_size, model_option, X_train)\n",
        "\n",
        "X_train = infer_d2v_embeddings(d2v_model, X_train)\n",
        "X_test = infer_d2v_embeddings(d2v_model, X_test)\n",
        "\n",
        "classifier = LinearSVC(max_iter=10000)\n",
        "\n",
        "acc_score, ballanced_acc_scores, report = run_classifier(classifier, X_train, X_test, y_train, y_test)\n",
        "\n",
        "print('======Relatório========')\n",
        "print(report)\n",
        "print(\"Acuracia == \" + str(acc_score))\n",
        "print(\"Acuracia balanceada == \" + str(ballanced_acc_scores))"
      ],
      "execution_count": null,
      "outputs": [
        {
          "output_type": "stream",
          "text": [
            "======Relatório========\n",
            "              precision    recall  f1-score   support\n",
            "\n",
            "           0       0.83      0.63      0.72      1316\n",
            "           1       0.88      0.96      0.92      3792\n",
            "\n",
            "    accuracy                           0.87      5108\n",
            "   macro avg       0.86      0.79      0.82      5108\n",
            "weighted avg       0.87      0.87      0.87      5108\n",
            "\n",
            "Acuracia == 0.8731401722787784\n",
            "Acuracia balanceada == 0.7947330325882036\n"
          ],
          "name": "stdout"
        }
      ]
    },
    {
      "cell_type": "code",
      "metadata": {
        "id": "O11WxOvFje3v",
        "colab": {
          "base_uri": "https://localhost:8080/"
        },
        "outputId": "a0ef31fc-71eb-4091-bec2-852470f5d3e1"
      },
      "source": [
        "train_fp = '/content/drive/MyDrive/Projects/IDPT2021/data/balanceado/70-30/train_25_tweets.csv'\n",
        "test_fp = '/content/drive/MyDrive/Projects/IDPT2021/data/balanceado/70-30/test_25_tweets.csv'\n",
        "\n",
        "vec_size = 300\n",
        "#DM model = 1\n",
        "model_option = 0\n",
        "\n",
        "X_train, X_test, y_train, y_test = read_corpus(train_fp, test_fp)\n",
        "\n",
        "d2v_model = train_doc2vec_embeddings(vec_size, model_option, X_train)\n",
        "\n",
        "X_train = infer_d2v_embeddings(d2v_model, X_train)\n",
        "X_test = infer_d2v_embeddings(d2v_model, X_test)\n",
        "\n",
        "classifier = LinearSVC(max_iter=10000)\n",
        "\n",
        "acc_score, ballanced_acc_scores, report = run_classifier(classifier, X_train, X_test, y_train, y_test)\n",
        "\n",
        "print('======Relatório========')\n",
        "print(report)\n",
        "print(\"Acuracia == \" + str(acc_score))\n",
        "print(\"Acuracia balanceada == \" + str(ballanced_acc_scores))"
      ],
      "execution_count": null,
      "outputs": [
        {
          "output_type": "stream",
          "text": [
            "======Relatório========\n",
            "              precision    recall  f1-score   support\n",
            "\n",
            "           0       0.87      0.67      0.76      1316\n",
            "           1       0.89      0.96      0.93      3792\n",
            "\n",
            "    accuracy                           0.89      5108\n",
            "   macro avg       0.88      0.82      0.84      5108\n",
            "weighted avg       0.89      0.89      0.88      5108\n",
            "\n",
            "Acuracia == 0.8888018794048551\n",
            "Acuracia balanceada == 0.8184299372859836\n"
          ],
          "name": "stdout"
        }
      ]
    },
    {
      "cell_type": "markdown",
      "metadata": {
        "id": "bjgfqubOjf1t"
      },
      "source": [
        "<h4 align=\"center\"> Conjuto da média das melhores traduções</h4>"
      ]
    },
    {
      "cell_type": "code",
      "metadata": {
        "id": "ouxbfVIzmc72",
        "colab": {
          "base_uri": "https://localhost:8080/"
        },
        "outputId": "23b22fb2-02ee-4e93-9735-dfa57fab41c5"
      },
      "source": [
        "train_fp = '/content/drive/MyDrive/Projects/IDPT2021/data/balanceado/70-30/train_media_tweets.csv'\n",
        "test_fp = '/content/drive/MyDrive/Projects/IDPT2021/data/balanceado/70-30/test_media_tweets.csv'\n",
        "\n",
        "vec_size = 50\n",
        "#DM model = 1\n",
        "model_option = 0\n",
        "\n",
        "X_train, X_test, y_train, y_test = read_corpus(train_fp, test_fp)\n",
        "\n",
        "d2v_model = train_doc2vec_embeddings(vec_size, model_option, X_train)\n",
        "\n",
        "X_train = infer_d2v_embeddings(d2v_model, X_train)\n",
        "X_test = infer_d2v_embeddings(d2v_model, X_test)\n",
        "\n",
        "classifier = LinearSVC(max_iter=10000)\n",
        "\n",
        "acc_score, ballanced_acc_scores, report = run_classifier(classifier, X_train, X_test, y_train, y_test)\n",
        "\n",
        "print('======Relatório========')\n",
        "print(report)\n",
        "print(\"Acuracia == \" + str(acc_score))\n",
        "print(\"Acuracia balanceada == \" + str(ballanced_acc_scores))"
      ],
      "execution_count": null,
      "outputs": [
        {
          "output_type": "stream",
          "text": [
            "======Relatório========\n",
            "              precision    recall  f1-score   support\n",
            "\n",
            "           0       0.84      0.61      0.71      1132\n",
            "           1       0.89      0.97      0.93      3821\n",
            "\n",
            "    accuracy                           0.89      4953\n",
            "   macro avg       0.87      0.79      0.82      4953\n",
            "weighted avg       0.88      0.89      0.88      4953\n",
            "\n",
            "Acuracia == 0.8855239248940037\n",
            "Acuracia balanceada == 0.7902783853042005\n"
          ],
          "name": "stdout"
        }
      ]
    },
    {
      "cell_type": "code",
      "metadata": {
        "id": "t6S34KktmgD9",
        "colab": {
          "base_uri": "https://localhost:8080/"
        },
        "outputId": "8ce6c95c-97a5-443e-8876-02809a82dccb"
      },
      "source": [
        "train_fp = '/content/drive/MyDrive/Projects/IDPT2021/data/balanceado/70-30/train_media_tweets.csv'\n",
        "test_fp = '/content/drive/MyDrive/Projects/IDPT2021/data/balanceado/70-30/test_media_tweets.csv'\n",
        "\n",
        "vec_size = 100\n",
        "#DM model = 1\n",
        "model_option = 0\n",
        "\n",
        "X_train, X_test, y_train, y_test = read_corpus(train_fp, test_fp)\n",
        "\n",
        "d2v_model = train_doc2vec_embeddings(vec_size, model_option, X_train)\n",
        "\n",
        "X_train = infer_d2v_embeddings(d2v_model, X_train)\n",
        "X_test = infer_d2v_embeddings(d2v_model, X_test)\n",
        "\n",
        "classifier = LinearSVC(max_iter=10000)\n",
        "\n",
        "acc_score, ballanced_acc_scores, report = run_classifier(classifier, X_train, X_test, y_train, y_test)\n",
        "\n",
        "print('======Relatório========')\n",
        "print(report)\n",
        "print(\"Acuracia == \" + str(acc_score))\n",
        "print(\"Acuracia balanceada == \" + str(ballanced_acc_scores))"
      ],
      "execution_count": null,
      "outputs": [
        {
          "output_type": "stream",
          "text": [
            "======Relatório========\n",
            "              precision    recall  f1-score   support\n",
            "\n",
            "           0       0.84      0.68      0.75      1132\n",
            "           1       0.91      0.96      0.93      3821\n",
            "\n",
            "    accuracy                           0.90      4953\n",
            "   macro avg       0.87      0.82      0.84      4953\n",
            "weighted avg       0.89      0.90      0.89      4953\n",
            "\n",
            "Acuracia == 0.8962245103977388\n",
            "Acuracia balanceada == 0.8199050856203813\n"
          ],
          "name": "stdout"
        }
      ]
    },
    {
      "cell_type": "code",
      "metadata": {
        "id": "Rb0gSAbyjeTO",
        "colab": {
          "base_uri": "https://localhost:8080/"
        },
        "outputId": "07f4847b-69b4-489a-e92f-32d3e0cfd48b"
      },
      "source": [
        "train_fp = '/content/drive/MyDrive/Projects/IDPT2021/data/balanceado/70-30/train_media_tweets.csv'\n",
        "test_fp = '/content/drive/MyDrive/Projects/IDPT2021/data/balanceado/70-30/test_media_tweets.csv'\n",
        "\n",
        "vec_size = 300\n",
        "#DM model = 1\n",
        "model_option = 0\n",
        "\n",
        "X_train, X_test, y_train, y_test = read_corpus(train_fp, test_fp)\n",
        "\n",
        "d2v_model = train_doc2vec_embeddings(vec_size, model_option, X_train)\n",
        "\n",
        "X_train = infer_d2v_embeddings(d2v_model, X_train)\n",
        "X_test = infer_d2v_embeddings(d2v_model, X_test)\n",
        "\n",
        "classifier = LinearSVC(max_iter=10000)\n",
        "\n",
        "acc_score, ballanced_acc_scores, report = run_classifier(classifier, X_train, X_test, y_train, y_test)\n",
        "\n",
        "print('======Relatório========')\n",
        "print(report)\n",
        "print(\"Acuracia == \" + str(acc_score))\n",
        "print(\"Acuracia balanceada == \" + str(ballanced_acc_scores))"
      ],
      "execution_count": null,
      "outputs": [
        {
          "output_type": "stream",
          "text": [
            "======Relatório========\n",
            "              precision    recall  f1-score   support\n",
            "\n",
            "           0       0.86      0.68      0.76      1132\n",
            "           1       0.91      0.97      0.94      3821\n",
            "\n",
            "    accuracy                           0.90      4953\n",
            "   macro avg       0.89      0.82      0.85      4953\n",
            "weighted avg       0.90      0.90      0.90      4953\n",
            "\n",
            "Acuracia == 0.9016757520694528\n",
            "Acuracia balanceada == 0.8221948308723503\n"
          ],
          "name": "stdout"
        }
      ]
    }
  ]
}