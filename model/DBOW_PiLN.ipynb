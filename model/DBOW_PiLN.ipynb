{
  "nbformat": 4,
  "nbformat_minor": 0,
  "metadata": {
    "colab": {
      "name": "DBOW PiLN.ipynb",
      "provenance": [],
      "collapsed_sections": []
    },
    "kernelspec": {
      "display_name": "Python 3",
      "name": "python3"
    },
    "language_info": {
      "name": "python"
    }
  },
  "cells": [
    {
      "cell_type": "markdown",
      "metadata": {
        "id": "4x-EEUEDGpW5"
      },
      "source": [
        "<h1 align=\"center\"> Experimento - Algoritmo Distributed Bag of Words Doc2vec Embeddings </h1>\n",
        "\n",
        "---\n",
        "\n"
      ]
    },
    {
      "cell_type": "markdown",
      "metadata": {
        "id": "TFuzy7oUPZyU"
      },
      "source": [
        "Bibliotecas utilizadas para auxiliar no trabalho de geração e utilização do vetor de palavras Doc2vec"
      ]
    },
    {
      "cell_type": "code",
      "metadata": {
        "id": "VUzl8Ihr_PKb"
      },
      "source": [
        "from google.colab import drive\n",
        "import gensim\n",
        "from gensim.models import Doc2Vec\n",
        "import pandas as pd\n",
        "import numpy as np\n",
        "from pandas import DataFrame\n",
        "import matplotlib.pyplot as plt\n",
        "from sklearn.model_selection import train_test_split\n",
        "from sklearn.svm import LinearSVC\n",
        "from sklearn.metrics._classification import accuracy_score\n",
        "from sklearn.metrics import balanced_accuracy_score\n",
        "from imblearn.over_sampling import SMOTE\n",
        "from collections import Counter\n",
        "from sklearn.model_selection import StratifiedShuffleSplit\n",
        "from sklearn.metrics import f1_score\n",
        "from sklearn.metrics import precision_score\n",
        "from sklearn.metrics import recall_score\n",
        "from sklearn.metrics import classification_report"
      ],
      "execution_count": 2,
      "outputs": []
    },
    {
      "cell_type": "code",
      "metadata": {
        "colab": {
          "base_uri": "https://localhost:8080/"
        },
        "id": "WivlJexLEGwX",
        "outputId": "5b6ac7e8-e203-4190-dcc2-5da58dc625f8"
      },
      "source": [
        "drive.mount('/content/drive')"
      ],
      "execution_count": 3,
      "outputs": [
        {
          "output_type": "stream",
          "text": [
            "Mounted at /content/drive\n"
          ],
          "name": "stdout"
        }
      ]
    },
    {
      "cell_type": "markdown",
      "metadata": {
        "id": "VqM_r4VHP0fC"
      },
      "source": [
        "\n",
        "Leitura dos arquivos contendo os dados. Métodos auxiliares para gerar o split de todo o conjunto."
      ]
    },
    {
      "cell_type": "code",
      "metadata": {
        "id": "8Peda4P6HIup"
      },
      "source": [
        "def read_corpus(train_filepath, test_filepath):\n",
        "    \n",
        "    train_data = pd.read_csv(train_filepath, sep=',')\n",
        "    test_data = pd.read_csv(test_filepath, sep=',')\n",
        "    \n",
        "    X_train = []\n",
        "    y_train = []\n",
        "    X_train.extend(train_data['text'].values)\n",
        "    y_train.extend(train_data['prediction'].values)\n",
        "    \n",
        "    X_test = []\n",
        "    y_test = []\n",
        "    X_test.extend(test_data['text'].values)\n",
        "    y_test.extend(test_data['prediction'].values)\n",
        "   \n",
        "    return X_train, X_test, y_train, y_test  \n",
        "\n",
        "def split_data_set(X, y, size):\n",
        "    \n",
        "    X_train, X_test, y_train, y_test = train_test_split(X,y,stratify = y, test_size = size, random_state = 42)\n",
        "\n",
        "    return X_train, X_test, y_train, y_test\n",
        "\n",
        "\n",
        "def prepare_corpus(tweets: list):\n",
        "    for i, line in enumerate(tweets):\n",
        "        tokens = gensim.utils.simple_preprocess(line)\n",
        "        yield gensim.models.doc2vec.TaggedDocument(tokens, [i])\n",
        "\n",
        "def load_train_data(filepath):\n",
        "    \n",
        "    train_data = pd.read_csv(filepath, sep=',')\n",
        "    X_train = []\n",
        "    y_train = []\n",
        "    X_train.extend(train_data['text'].values)\n",
        "    y_train.extend(train_data['prediction'].values)\n",
        "    \n",
        "    return X_train, y_train\n",
        "\n",
        "def load_test_data(filepath):\n",
        "    \n",
        "    test_data = pd.read_csv(filepath, sep='\\t')\n",
        "    X_test = []\n",
        "    id_test = []\n",
        "\n",
        "    X_test.extend(test_data['text'].values)\n",
        "    id_test.extend(test_data['id'].values)\n",
        "    \n",
        "    return X_test, id_test\n",
        "\n",
        "def write_submission_data(pred, id_test_data, file_name):\n",
        "\n",
        "    df = pd.DataFrame(list(zip(id_test_data, pred)), columns = ['Id', 'Prediction'])\n",
        "\n",
        "    df.to_csv(file_name, sep='\\t', encoding='utf-8', index = False)\n",
        "    return\n"
      ],
      "execution_count": 4,
      "outputs": []
    },
    {
      "cell_type": "markdown",
      "metadata": {
        "id": "efpUCZV1LYWQ"
      },
      "source": [
        "Método para criação das embeddings a serem utilizadas na classificação"
      ]
    },
    {
      "cell_type": "code",
      "metadata": {
        "id": "WXpNOhEJLXGF"
      },
      "source": [
        "def train_doc2vec_embeddings(vec_size, option, data):\n",
        " \n",
        "    documents = list(prepare_corpus(data))\n",
        "    model = Doc2Vec(vector_size = vec_size, dm = option, window=4, min_count=1, epochs=300, sample=1e-4, workers=5)\n",
        "    model.build_vocab(documents)\n",
        "    model.train(documents, total_examples=model.corpus_count, epochs=model.epochs)\n",
        "  \n",
        "    return model\n"
      ],
      "execution_count": 5,
      "outputs": []
    },
    {
      "cell_type": "markdown",
      "metadata": {
        "id": "B_7kWIRLQiEZ"
      },
      "source": [
        "Captura o vetor de palavras já gerado e o utilizapara inferir novos vetores de palavras no data set a ser utilizado na classificação.\n"
      ]
    },
    {
      "cell_type": "code",
      "metadata": {
        "id": "Ntkove4-POc7"
      },
      "source": [
        "\n",
        "def infer_d2v_embeddings(d2v_model, X):\n",
        "    \n",
        "    for i in range(len(X)):\n",
        "        model_vector = d2v_model.infer_vector(gensim.utils.simple_preprocess(X[i]))\n",
        "        X[i] = model_vector\n",
        "        \n",
        "    return X\n",
        "\n",
        "def run_classifier(classifier, X_train, X_test, y_train, y_test):\n",
        "    \n",
        "    classifier.fit(X_train,y_train)\n",
        "    \n",
        "    pred = classifier.predict(X_test)\n",
        "    \n",
        "    acc_score = accuracy_score(y_test,pred)\n",
        "    ballanced_acc_score = balanced_accuracy_score(y_test, pred)\n",
        "    classif_report = classification_report(y_test, pred)\n",
        "    \n",
        "    return acc_score, ballanced_acc_score, classif_report"
      ],
      "execution_count": 6,
      "outputs": []
    },
    {
      "cell_type": "markdown",
      "metadata": {
        "id": "3m4FOLvTPz1p"
      },
      "source": [
        "<h1 align=\"center\"> <b>Modelos</b> </h1>\n",
        "\n"
      ]
    },
    {
      "cell_type": "markdown",
      "metadata": {
        "id": "0RmYWbnr1zBx"
      },
      "source": [
        "<h2 align=\"center\"> <b><i>Corpus</i> Twitter</b> </h2>"
      ]
    },
    {
      "cell_type": "code",
      "metadata": {
        "id": "6_Hwajv2P0sd"
      },
      "source": [
        "from sklearn.neural_network import MLPClassifier\n",
        "\n",
        "train_fp = '/content/drive/MyDrive/Projects/IDPT2021/data/balanceado/70-30/train_tweets_final.csv'\n",
        "test_fp = '/content/drive/MyDrive/Projects/IDPT2021/data/Test/test_tweets.csv'\n",
        "\n",
        "output_filepath = '/content/drive/MyDrive/Projects/IDPT2021/data/piln_output_tweets.csv'\n",
        "\n",
        "vec_size = 300\n",
        "#DM model = 1\n",
        "model_option = 0\n",
        "\n",
        "X_train, y_train = load_train_data(train_fp)\n",
        "X_test, id_test = load_test_data(test_fp)\n",
        "\n",
        "d2v_model = train_doc2vec_embeddings(vec_size, model_option, X_train)\n",
        "\n",
        "X_train = infer_d2v_embeddings(d2v_model, X_train)\n",
        "X_test = infer_d2v_embeddings(d2v_model, X_test)\n",
        "\n",
        "classifier = MLPClassifier(random_state=1, max_iter=300)\n",
        "\n",
        "classifier.fit(X_train,y_train)\n",
        "    \n",
        "pred = classifier.predict(X_test)\n",
        "\n",
        "write_submission_data(pred, id_test, output_filepath)\n",
        "\n",
        "'''\n",
        "acc_score, ballanced_acc_scores, report = run_classifier(classifier, X_train, X_test, y_train, y_test)\n",
        "\n",
        "print('======Relatório========')\n",
        "print(report)\n",
        "print(\"Acuracia == \" + str(acc_score))\n",
        "print(\"Acuracia balanceada == \" + str(ballanced_acc_scores))\n",
        "'''"
      ],
      "execution_count": null,
      "outputs": []
    },
    {
      "cell_type": "markdown",
      "metadata": {
        "id": "Dtbf0Ajq2BNr"
      },
      "source": [
        "<h2 align=\"center\"> <b><i>Corpus</i> Notícias</b> </h2>"
      ]
    },
    {
      "cell_type": "code",
      "metadata": {
        "id": "SPzVWXkZP2na"
      },
      "source": [
        "from sklearn.neural_network import MLPClassifier\n",
        "\n",
        "train_fp = '/content/drive/MyDrive/Projects/IDPT2021/data/70-30/train_news_final.csv'\n",
        "test_fp = '/content/drive/MyDrive/Projects/IDPT2021/data/Test/test_news.csv'\n",
        "\n",
        "output_filepath = '/content/drive/MyDrive/Projects/IDPT2021/data/piln_output_news.csv'\n",
        "\n",
        "vec_size = 300\n",
        "#DM model = 1\n",
        "model_option = 0\n",
        "\n",
        "X_train, y_train = load_train_data(train_fp)\n",
        "X_test, id_test = load_test_data(test_fp)\n",
        "\n",
        "d2v_model = train_doc2vec_embeddings(vec_size, model_option, X_train)\n",
        "\n",
        "X_train = infer_d2v_embeddings(d2v_model, X_train)\n",
        "X_test = infer_d2v_embeddings(d2v_model, X_test)\n",
        "\n",
        "classifier = MLPClassifier(random_state=1, max_iter=300)\n",
        "\n",
        "classifier.fit(X_train,y_train)\n",
        "    \n",
        "pred = classifier.predict(X_test)\n",
        "\n",
        "write_submission_data(pred, id_test, output_filepath)\n",
        "\n",
        "'''\n",
        "acc_score, ballanced_acc_scores, report = run_classifier(classifier, X_train, X_test, y_train, y_test)\n",
        "\n",
        "print('======Relatório========')\n",
        "print(report)\n",
        "print(\"Acuracia == \" + str(acc_score))\n",
        "print(\"Acuracia balanceada == \" + str(ballanced_acc_scores))\n",
        "'''"
      ],
      "execution_count": null,
      "outputs": []
    }
  ]
}